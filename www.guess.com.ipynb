{
  "nbformat": 4,
  "nbformat_minor": 0,
  "metadata": {
    "colab": {
      "provenance": [],
      "include_colab_link": true
    },
    "kernelspec": {
      "name": "python3",
      "display_name": "Python 3"
    },
    "language_info": {
      "name": "python"
    }
  },
  "cells": [
    {
      "cell_type": "markdown",
      "metadata": {
        "id": "view-in-github",
        "colab_type": "text"
      },
      "source": [
        "<a href=\"https://colab.research.google.com/github/TABEYWICKRAMA/IRWA/blob/main/www.guess.com.ipynb\" target=\"_parent\"><img src=\"https://colab.research.google.com/assets/colab-badge.svg\" alt=\"Open In Colab\"/></a>"
      ]
    },
    {
      "cell_type": "code",
      "source": [
        "#import the library\n",
        "!pip install BeautifulSoup4\n",
        "!pip install lxml\n",
        "!pip install cloudscraper\n",
        "\n",
        "from bs4 import BeautifulSoup\n",
        "import requests\n",
        "import pandas as pd\n",
        "import cloudscraper"
      ],
      "metadata": {
        "colab": {
          "base_uri": "https://localhost:8080/"
        },
        "id": "Yl68SUjO3g_G",
        "outputId": "33eee53d-f3d4-45a0-f8de-efdf883b049d"
      },
      "execution_count": null,
      "outputs": [
        {
          "output_type": "stream",
          "name": "stdout",
          "text": [
            "Looking in indexes: https://pypi.org/simple, https://us-python.pkg.dev/colab-wheels/public/simple/\n",
            "Requirement already satisfied: BeautifulSoup4 in /usr/local/lib/python3.7/dist-packages (4.6.3)\n",
            "Looking in indexes: https://pypi.org/simple, https://us-python.pkg.dev/colab-wheels/public/simple/\n",
            "Requirement already satisfied: lxml in /usr/local/lib/python3.7/dist-packages (4.9.1)\n",
            "Looking in indexes: https://pypi.org/simple, https://us-python.pkg.dev/colab-wheels/public/simple/\n",
            "Collecting cloudscraper\n",
            "  Downloading cloudscraper-1.2.64-py2.py3-none-any.whl (97 kB)\n",
            "\u001b[K     |████████████████████████████████| 97 kB 2.3 MB/s \n",
            "\u001b[?25hRequirement already satisfied: requests>=2.9.2 in /usr/local/lib/python3.7/dist-packages (from cloudscraper) (2.23.0)\n",
            "Collecting requests-toolbelt>=0.9.1\n",
            "  Downloading requests_toolbelt-0.10.1-py2.py3-none-any.whl (54 kB)\n",
            "\u001b[K     |████████████████████████████████| 54 kB 252 kB/s \n",
            "\u001b[?25hRequirement already satisfied: pyparsing>=2.4.7 in /usr/local/lib/python3.7/dist-packages (from cloudscraper) (3.0.9)\n",
            "Requirement already satisfied: chardet<4,>=3.0.2 in /usr/local/lib/python3.7/dist-packages (from requests>=2.9.2->cloudscraper) (3.0.4)\n",
            "Requirement already satisfied: certifi>=2017.4.17 in /usr/local/lib/python3.7/dist-packages (from requests>=2.9.2->cloudscraper) (2022.9.24)\n",
            "Requirement already satisfied: urllib3!=1.25.0,!=1.25.1,<1.26,>=1.21.1 in /usr/local/lib/python3.7/dist-packages (from requests>=2.9.2->cloudscraper) (1.24.3)\n",
            "Requirement already satisfied: idna<3,>=2.5 in /usr/local/lib/python3.7/dist-packages (from requests>=2.9.2->cloudscraper) (2.10)\n",
            "Installing collected packages: requests-toolbelt, cloudscraper\n",
            "Successfully installed cloudscraper-1.2.64 requests-toolbelt-0.10.1\n"
          ]
        }
      ]
    },
    {
      "cell_type": "code",
      "source": [
        "# Create excel workbook\n",
        "data = pd.DataFrame(columns=['Product_no', 'Product_Name', 'Old_Price', 'New_Price'])\n",
        "data"
      ],
      "metadata": {
        "colab": {
          "base_uri": "https://localhost:8080/",
          "height": 49
        },
        "id": "wAU0bJbwDYm1",
        "outputId": "ea126834-e3e1-427f-a20a-27c5f8cec7ad"
      },
      "execution_count": null,
      "outputs": [
        {
          "output_type": "execute_result",
          "data": {
            "text/plain": [
              "Empty DataFrame\n",
              "Columns: [Product_no, Product_Name, Old_Price, New_Price]\n",
              "Index: []"
            ],
            "text/html": [
              "\n",
              "  <div id=\"df-d8ae9738-4c66-40dd-a4f7-75f8e95dc245\">\n",
              "    <div class=\"colab-df-container\">\n",
              "      <div>\n",
              "<style scoped>\n",
              "    .dataframe tbody tr th:only-of-type {\n",
              "        vertical-align: middle;\n",
              "    }\n",
              "\n",
              "    .dataframe tbody tr th {\n",
              "        vertical-align: top;\n",
              "    }\n",
              "\n",
              "    .dataframe thead th {\n",
              "        text-align: right;\n",
              "    }\n",
              "</style>\n",
              "<table border=\"1\" class=\"dataframe\">\n",
              "  <thead>\n",
              "    <tr style=\"text-align: right;\">\n",
              "      <th></th>\n",
              "      <th>Product_no</th>\n",
              "      <th>Product_Name</th>\n",
              "      <th>Old_Price</th>\n",
              "      <th>New_Price</th>\n",
              "    </tr>\n",
              "  </thead>\n",
              "  <tbody>\n",
              "  </tbody>\n",
              "</table>\n",
              "</div>\n",
              "      <button class=\"colab-df-convert\" onclick=\"convertToInteractive('df-d8ae9738-4c66-40dd-a4f7-75f8e95dc245')\"\n",
              "              title=\"Convert this dataframe to an interactive table.\"\n",
              "              style=\"display:none;\">\n",
              "        \n",
              "  <svg xmlns=\"http://www.w3.org/2000/svg\" height=\"24px\"viewBox=\"0 0 24 24\"\n",
              "       width=\"24px\">\n",
              "    <path d=\"M0 0h24v24H0V0z\" fill=\"none\"/>\n",
              "    <path d=\"M18.56 5.44l.94 2.06.94-2.06 2.06-.94-2.06-.94-.94-2.06-.94 2.06-2.06.94zm-11 1L8.5 8.5l.94-2.06 2.06-.94-2.06-.94L8.5 2.5l-.94 2.06-2.06.94zm10 10l.94 2.06.94-2.06 2.06-.94-2.06-.94-.94-2.06-.94 2.06-2.06.94z\"/><path d=\"M17.41 7.96l-1.37-1.37c-.4-.4-.92-.59-1.43-.59-.52 0-1.04.2-1.43.59L10.3 9.45l-7.72 7.72c-.78.78-.78 2.05 0 2.83L4 21.41c.39.39.9.59 1.41.59.51 0 1.02-.2 1.41-.59l7.78-7.78 2.81-2.81c.8-.78.8-2.07 0-2.86zM5.41 20L4 18.59l7.72-7.72 1.47 1.35L5.41 20z\"/>\n",
              "  </svg>\n",
              "      </button>\n",
              "      \n",
              "  <style>\n",
              "    .colab-df-container {\n",
              "      display:flex;\n",
              "      flex-wrap:wrap;\n",
              "      gap: 12px;\n",
              "    }\n",
              "\n",
              "    .colab-df-convert {\n",
              "      background-color: #E8F0FE;\n",
              "      border: none;\n",
              "      border-radius: 50%;\n",
              "      cursor: pointer;\n",
              "      display: none;\n",
              "      fill: #1967D2;\n",
              "      height: 32px;\n",
              "      padding: 0 0 0 0;\n",
              "      width: 32px;\n",
              "    }\n",
              "\n",
              "    .colab-df-convert:hover {\n",
              "      background-color: #E2EBFA;\n",
              "      box-shadow: 0px 1px 2px rgba(60, 64, 67, 0.3), 0px 1px 3px 1px rgba(60, 64, 67, 0.15);\n",
              "      fill: #174EA6;\n",
              "    }\n",
              "\n",
              "    [theme=dark] .colab-df-convert {\n",
              "      background-color: #3B4455;\n",
              "      fill: #D2E3FC;\n",
              "    }\n",
              "\n",
              "    [theme=dark] .colab-df-convert:hover {\n",
              "      background-color: #434B5C;\n",
              "      box-shadow: 0px 1px 3px 1px rgba(0, 0, 0, 0.15);\n",
              "      filter: drop-shadow(0px 1px 2px rgba(0, 0, 0, 0.3));\n",
              "      fill: #FFFFFF;\n",
              "    }\n",
              "  </style>\n",
              "\n",
              "      <script>\n",
              "        const buttonEl =\n",
              "          document.querySelector('#df-d8ae9738-4c66-40dd-a4f7-75f8e95dc245 button.colab-df-convert');\n",
              "        buttonEl.style.display =\n",
              "          google.colab.kernel.accessAllowed ? 'block' : 'none';\n",
              "\n",
              "        async function convertToInteractive(key) {\n",
              "          const element = document.querySelector('#df-d8ae9738-4c66-40dd-a4f7-75f8e95dc245');\n",
              "          const dataTable =\n",
              "            await google.colab.kernel.invokeFunction('convertToInteractive',\n",
              "                                                     [key], {});\n",
              "          if (!dataTable) return;\n",
              "\n",
              "          const docLinkHtml = 'Like what you see? Visit the ' +\n",
              "            '<a target=\"_blank\" href=https://colab.research.google.com/notebooks/data_table.ipynb>data table notebook</a>'\n",
              "            + ' to learn more about interactive tables.';\n",
              "          element.innerHTML = '';\n",
              "          dataTable['output_type'] = 'display_data';\n",
              "          await google.colab.output.renderOutput(dataTable, element);\n",
              "          const docLink = document.createElement('div');\n",
              "          docLink.innerHTML = docLinkHtml;\n",
              "          element.appendChild(docLink);\n",
              "        }\n",
              "      </script>\n",
              "    </div>\n",
              "  </div>\n",
              "  "
            ]
          },
          "metadata": {},
          "execution_count": 2
        }
      ]
    },
    {
      "cell_type": "code",
      "source": [
        "scraper = cloudscraper.create_scraper(browser='chrome')\n",
        "\n",
        "URL = 'https://www.guess.com/us/en/women/apparel/sale/denim'\n",
        "page = scraper.get(URL)\n",
        "\n",
        "soup = BeautifulSoup(page.content, 'lxml')\n",
        "\n",
        "products = soup.find_all('div', class_='product-grid__column')\n",
        "\n",
        "# looping\n",
        "for product in products:\n",
        "\n",
        "        #product_name \n",
        "        product_name = product.find('div', class_='product-tile__tile-body').h3.a.text.strip()\n",
        "        #product_newprice\n",
        "        new_price = product.find('span', class_='price__red-color text-nowrap').text.split()[-1].strip()\n",
        "        #product_number\n",
        "        product_number = product.find('div', class_='product')['data-pid'].strip()\n",
        "        #product_oldprice\n",
        "        old_price = product.find('span', class_='price__strike-through').text.strip()\n",
        "  \n",
        "        data_dict = {\n",
        "            'Product_no': product_number,\n",
        "            'Product_Name': product_name,\n",
        "            'Old_Price': old_price,\n",
        "            'New_Price': new_price,\n",
        "        }\n",
        "\n",
        "        data = data.append(pd.DataFrame(data=data_dict, index=[0]), ignore_index=True)\n",
        "\n",
        "        print(f'{product_number} | {product_name} | {old_price} | {new_price} ')"
      ],
      "metadata": {
        "colab": {
          "base_uri": "https://localhost:8080/"
        },
        "id": "uuZDtq4yBaR6",
        "outputId": "6f145539-e52e-4489-f26c-d3702fbf1e98"
      },
      "execution_count": null,
      "outputs": [
        {
          "output_type": "stream",
          "name": "stdout",
          "text": [
            "W2GA32D3ZTO-PRCC | Eco Pop '70s Split Hem Jeans | $148.00 | $88.80 \n",
            "W2GA09D4MU2-SUSL | Eco Super High-Rise Wide Leg Jeans | $148.00 | $74.00 \n",
            "W2GA22D4MW1-FDDB | 1981 Eyelet Straight Jeans | $138.00 | $82.80 \n",
            "W2GA22D4MW1-FDDW | 1981 Eyelet Straight Jeans | $138.00 | $82.80 \n",
            "W2GD31D4MW1-FDDW | Emerson Denim Skirt | $128.00 | $76.80 \n",
            "W2RA10D4IF0-G011 | Jossy High-Rise Flare Jeans | $158.00 | $79.00 \n",
            "W2GA46D4DN5-AMSA | 1981 Pinstripe Skinny Jeans | $108.00 | $64.80 \n",
            "W2GD31D4MW1-FDDB | Emerson Denim Skirt | $128.00 | $76.80 \n",
            "W2GD29D4MW1-FDDB | Claudia Eyelet Shorts | $98.00 | $49.00 \n",
            "W2GA46D4DN5-AMSB | 1981 Pinstripe Skinny Jeans | $108.00 | $64.80 \n",
            "W2PA96D4PC1-GLA9 | Lace Exposed Button Mom Jeans | $128.00 | $64.00 \n",
            "1GGA01D47O0-OWHI | Stiletto No. 97 Jean | $150.00 | $119.99 \n",
            "W2GA22D4MW1-FDDP | 1981 Eyelet Straight Jeans | $138.00 | $82.80 \n",
            "W2GA22D4MW1-FDDH | 1981 Eyelet Straight Jeans | $138.00 | $82.80 \n",
            "W2GD29D4MW1-FDDP | Claudia Eyelet Shorts | $98.00 | $49.00 \n",
            "W2PA96D4PC1-FUXL | Lace Exposed Button Mom Jeans | $128.00 | $64.00 \n",
            "W2PD0HD4PC1-FUXL | Lace Denim Mini Skirt | $98.00 | $58.80 \n",
            "W2PA46D4PC1-GLA9 | 1981 Lace Skinny Jeans | $138.00 | $82.80 \n",
            "W2PD0HD4PC1-GLA9 | Lace Denim Mini Skirt | $98.00 | $58.80 \n",
            "W1GA25RDX72-LFGW | Neva Jumpsuit | $148.00 | $88.80 \n",
            "W2GA22D4MW1-FDDG | 1981 Eyelet Straight Jeans | $138.00 | $82.80 \n",
            "W2GD29D4MW1-FDDG | Claudia Eyelet Shorts | $98.00 | $49.00 \n",
            "W2GD00D4MO1-VEGR | Manila Shorts | $89.00 | $44.50 \n",
            "W2GA25WDX72-F5Q7 | Eco Neva Jumpsuit | $148.00 | $88.80 \n",
            "W2GD00D4MO1-VECO | Manila Shorts | $89.00 | $44.50 \n",
            "W2GA46D4DN5-AMSP | 1981 Pinstripe Skinny Jeans | $108.00 | $64.80 \n",
            "W2PA46D4PC1-FUXL | 1981 Lace Skinny Jeans | $138.00 | $69.00 \n",
            "W2RA46D4KP1-HEZE | 1981 Metallic Floral Skinny Jeans | $148.00 | $74.00 \n",
            "W2GA58D4N11-GRCA | Printed Sexy Bootcut Jeans | $168.00 | $84.00 \n",
            "W93AB4R3ED0-DRTT | 1981 Destroyed High-Rise Skinny Jeans | $108.00 | $64.80 \n",
            "W1BA94D4H41-CBBE | Ultimate Shimmer Skinny Jeans | $128.00 | $64.00 \n",
            "W93AB4R15Y1-ODX | 1981 Destroyed High-Rise Skinny Jeans | $108.00 | $81.00 \n",
            "W1BA08D4IQ0-DIMG | 1981 Faux-Leather Waist Straight Jeans | $128.00 | $64.00 \n",
            "1GGB03D47N0-JBLK | Stiletto No. 97 Jean | $150.00 | $119.99 \n",
            "W2GD32D3ZTL-LADC | Eco Marina Denim Skirt | $168.00 | $100.80 \n",
            "W2YA21D4NH5-AUMD | Mom Jeans | $108.00 | $64.80 \n"
          ]
        }
      ]
    },
    {
      "cell_type": "code",
      "source": [
        "data.to_excel('abcd.xlsx')"
      ],
      "metadata": {
        "id": "QT1ArqeCCU1l"
      },
      "execution_count": null,
      "outputs": []
    }
  ]
}