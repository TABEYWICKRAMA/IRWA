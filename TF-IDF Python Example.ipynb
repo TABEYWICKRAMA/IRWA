{
  "nbformat": 4,
  "nbformat_minor": 0,
  "metadata": {
    "colab": {
      "provenance": [],
      "authorship_tag": "ABX9TyNa6pqYnWZxQPO4csjQWiGc",
      "include_colab_link": true
    },
    "kernelspec": {
      "name": "python3",
      "display_name": "Python 3"
    },
    "language_info": {
      "name": "python"
    }
  },
  "cells": [
    {
      "cell_type": "markdown",
      "metadata": {
        "id": "view-in-github",
        "colab_type": "text"
      },
      "source": [
        "<a href=\"https://colab.research.google.com/github/TABEYWICKRAMA/IRWA/blob/main/TF-IDF%20Python%20Example.ipynb\" target=\"_parent\"><img src=\"https://colab.research.google.com/assets/colab-badge.svg\" alt=\"Open In Colab\"/></a>"
      ]
    },
    {
      "cell_type": "code",
      "execution_count": 1,
      "metadata": {
        "id": "LQDQ0NdW7fgD"
      },
      "outputs": [],
      "source": [
        "import pandas as pd\n",
        "from sklearn.feature_extraction.text import TfidfVectorizer  #this library will help to find out term frequency"
      ]
    },
    {
      "cell_type": "code",
      "source": [
        "documentA = 'the man went out for a walk'\n",
        "documentB = 'the children sat around the fire'\n",
        "\n",
        "#create Bag of words                    spliting happening here\n",
        "bagofwordsA = documentA.split(' ')\n",
        "bagofwordsB = documentB.split(' ')\n",
        "bagofwordsB"
      ],
      "metadata": {
        "colab": {
          "base_uri": "https://localhost:8080/"
        },
        "id": "A4yrxAt87zu3",
        "outputId": "ecd8b09d-def2-499c-e9f6-dfb7a0108e8c"
      },
      "execution_count": 2,
      "outputs": [
        {
          "output_type": "execute_result",
          "data": {
            "text/plain": [
              "['the', 'children', 'sat', 'around', 'the', 'fire']"
            ]
          },
          "metadata": {},
          "execution_count": 2
        }
      ]
    },
    {
      "cell_type": "code",
      "source": [
        "#To find the unique words\n",
        "\n",
        "uniquewords = set(bagofwordsA).union(set(bagofwordsB))  #adding these two bags into one bag then find unique words in that bag\n",
        "uniquewords"
      ],
      "metadata": {
        "colab": {
          "base_uri": "https://localhost:8080/"
        },
        "id": "CY-U8MjW77Jb",
        "outputId": "5731fd84-8cf4-4ed0-c1c6-7428838c7214"
      },
      "execution_count": 3,
      "outputs": [
        {
          "output_type": "execute_result",
          "data": {
            "text/plain": [
              "{'a',\n",
              " 'around',\n",
              " 'children',\n",
              " 'fire',\n",
              " 'for',\n",
              " 'man',\n",
              " 'out',\n",
              " 'sat',\n",
              " 'the',\n",
              " 'walk',\n",
              " 'went'}"
            ]
          },
          "metadata": {},
          "execution_count": 3
        }
      ]
    },
    {
      "cell_type": "code",
      "source": [
        "#next, we will create a directory of words and their occurence for each document in the corpus\n",
        "\n",
        "numofwordsA = dict.fromkeys(uniquewords, 0)   #initialy frequency of particular word is zero\n",
        "for word in bagofwordsA:\n",
        "  numofwordsA[word] += 1\n",
        "\n",
        "numofwordsB = dict.fromkeys(uniquewords, 0)\n",
        "for word in bagofwordsB:\n",
        "  numofwordsB[word] += 1\n",
        "\n",
        "numofwordsB"
      ],
      "metadata": {
        "colab": {
          "base_uri": "https://localhost:8080/"
        },
        "id": "o3BjW7Lp9TVd",
        "outputId": "49ad9d8c-6d4f-461d-97b3-7ded35e3c555"
      },
      "execution_count": 6,
      "outputs": [
        {
          "output_type": "execute_result",
          "data": {
            "text/plain": [
              "{'children': 1,\n",
              " 'for': 0,\n",
              " 'went': 0,\n",
              " 'the': 2,\n",
              " 'fire': 1,\n",
              " 'a': 0,\n",
              " 'walk': 0,\n",
              " 'man': 0,\n",
              " 'out': 0,\n",
              " 'around': 1,\n",
              " 'sat': 1}"
            ]
          },
          "metadata": {},
          "execution_count": 6
        }
      ]
    },
    {
      "cell_type": "markdown",
      "source": [
        "## compute Term Frequency"
      ],
      "metadata": {
        "id": "8D-xd3mSBIUW"
      }
    },
    {
      "cell_type": "code",
      "source": [
        "def computeTF(wordDict,bagofwords):\n",
        "  import math\n",
        "  tfDict = {}\n",
        "  bagofwordscount = len(bagofwords)\n",
        "  for word, count in wordDict.items():\n",
        "    tfDict[word] = count\n",
        "    tfDict[word] = count/ float(bagofwordscount)\n",
        "  return tfDict"
      ],
      "metadata": {
        "id": "wvU0StVPAFMO"
      },
      "execution_count": 7,
      "outputs": []
    },
    {
      "cell_type": "code",
      "source": [
        "#The following lines compute the term frequency for each our documents\n",
        "\n",
        "tfA = computeTF(numofwordsA,bagofwordsA)\n",
        "tfB = computeTF(numofwordsB,bagofwordsB)\n",
        "tfA"
      ],
      "metadata": {
        "colab": {
          "base_uri": "https://localhost:8080/"
        },
        "id": "AzgNuVa6Crlq",
        "outputId": "46f41649-ac97-445e-d7c4-0c97e991e831"
      },
      "execution_count": 8,
      "outputs": [
        {
          "output_type": "execute_result",
          "data": {
            "text/plain": [
              "{'children': 0.0,\n",
              " 'for': 0.14285714285714285,\n",
              " 'went': 0.14285714285714285,\n",
              " 'the': 0.14285714285714285,\n",
              " 'fire': 0.0,\n",
              " 'a': 0.14285714285714285,\n",
              " 'walk': 0.14285714285714285,\n",
              " 'man': 0.14285714285714285,\n",
              " 'out': 0.14285714285714285,\n",
              " 'around': 0.0,\n",
              " 'sat': 0.0}"
            ]
          },
          "metadata": {},
          "execution_count": 8
        }
      ]
    },
    {
      "cell_type": "code",
      "source": [
        "#The following code implements inverse data(document) frequency in python\n",
        "# before find inverse document frequency we have to find document frequency\n",
        "\n",
        "def computeIDF(documents):\n",
        "  import math\n",
        "  N = len(documents)\n",
        "\n",
        "  idfDict = dict.fromkeys(documents[0].keys(),0)\n",
        "  for document in documents:\n",
        "    for word, val in document.items():\n",
        "      if val > 0:\n",
        "        idfDict[word] += 1\n",
        "  \n",
        "  for word, val in idfDict.items():\n",
        "    idfDict[word] = math.log(N/float(val))\n",
        "  return idfDict"
      ],
      "metadata": {
        "id": "XDao-_WXDcnJ"
      },
      "execution_count": 9,
      "outputs": []
    },
    {
      "cell_type": "code",
      "source": [
        "idfs = computeIDF([numofwordsA, numofwordsB])\n",
        "idfs"
      ],
      "metadata": {
        "colab": {
          "base_uri": "https://localhost:8080/"
        },
        "id": "7EAcIzXUFDHU",
        "outputId": "cb608d9d-6e11-4985-aabb-d3e1bd423181"
      },
      "execution_count": 10,
      "outputs": [
        {
          "output_type": "execute_result",
          "data": {
            "text/plain": [
              "{'children': 0.6931471805599453,\n",
              " 'for': 0.6931471805599453,\n",
              " 'went': 0.6931471805599453,\n",
              " 'the': 0.0,\n",
              " 'fire': 0.6931471805599453,\n",
              " 'a': 0.6931471805599453,\n",
              " 'walk': 0.6931471805599453,\n",
              " 'man': 0.6931471805599453,\n",
              " 'out': 0.6931471805599453,\n",
              " 'around': 0.6931471805599453,\n",
              " 'sat': 0.6931471805599453}"
            ]
          },
          "metadata": {},
          "execution_count": 10
        }
      ]
    },
    {
      "cell_type": "markdown",
      "source": [
        "## Compute TFIDF "
      ],
      "metadata": {
        "id": "tFtiKLQ3H_cF"
      }
    },
    {
      "cell_type": "code",
      "source": [
        "def computeTFIDF(tfbagofwords,idfs):\n",
        "  tfidf = {}\n",
        "  for word, val in tfbagofwords.items():\n",
        "    tfidf[word] = val*idfs[word]\n",
        "  return tfidf"
      ],
      "metadata": {
        "id": "1GKXlnXQHS3v"
      },
      "execution_count": 11,
      "outputs": []
    },
    {
      "cell_type": "code",
      "source": [
        "tfidfA = computeTFIDF(tfA, idfs)\n",
        "tfidfB = computeTFIDF(tfB, idfs)\n",
        "df = pd.DataFrame([tfidfA,tfidfB])\n",
        "df"
      ],
      "metadata": {
        "colab": {
          "base_uri": "https://localhost:8080/",
          "height": 112
        },
        "id": "NpfqKzihHqy5",
        "outputId": "de6ab15c-e7af-4a67-c26c-9533dc09e6f9"
      },
      "execution_count": 12,
      "outputs": [
        {
          "output_type": "execute_result",
          "data": {
            "text/plain": [
              "   children       for      went  the      fire         a      walk       man  \\\n",
              "0  0.000000  0.099021  0.099021  0.0  0.000000  0.099021  0.099021  0.099021   \n",
              "1  0.115525  0.000000  0.000000  0.0  0.115525  0.000000  0.000000  0.000000   \n",
              "\n",
              "        out    around       sat  \n",
              "0  0.099021  0.000000  0.000000  \n",
              "1  0.000000  0.115525  0.115525  "
            ],
            "text/html": [
              "\n",
              "  <div id=\"df-eb30dfec-4e04-41f2-9289-44e2bb46e8fa\">\n",
              "    <div class=\"colab-df-container\">\n",
              "      <div>\n",
              "<style scoped>\n",
              "    .dataframe tbody tr th:only-of-type {\n",
              "        vertical-align: middle;\n",
              "    }\n",
              "\n",
              "    .dataframe tbody tr th {\n",
              "        vertical-align: top;\n",
              "    }\n",
              "\n",
              "    .dataframe thead th {\n",
              "        text-align: right;\n",
              "    }\n",
              "</style>\n",
              "<table border=\"1\" class=\"dataframe\">\n",
              "  <thead>\n",
              "    <tr style=\"text-align: right;\">\n",
              "      <th></th>\n",
              "      <th>children</th>\n",
              "      <th>for</th>\n",
              "      <th>went</th>\n",
              "      <th>the</th>\n",
              "      <th>fire</th>\n",
              "      <th>a</th>\n",
              "      <th>walk</th>\n",
              "      <th>man</th>\n",
              "      <th>out</th>\n",
              "      <th>around</th>\n",
              "      <th>sat</th>\n",
              "    </tr>\n",
              "  </thead>\n",
              "  <tbody>\n",
              "    <tr>\n",
              "      <th>0</th>\n",
              "      <td>0.000000</td>\n",
              "      <td>0.099021</td>\n",
              "      <td>0.099021</td>\n",
              "      <td>0.0</td>\n",
              "      <td>0.000000</td>\n",
              "      <td>0.099021</td>\n",
              "      <td>0.099021</td>\n",
              "      <td>0.099021</td>\n",
              "      <td>0.099021</td>\n",
              "      <td>0.000000</td>\n",
              "      <td>0.000000</td>\n",
              "    </tr>\n",
              "    <tr>\n",
              "      <th>1</th>\n",
              "      <td>0.115525</td>\n",
              "      <td>0.000000</td>\n",
              "      <td>0.000000</td>\n",
              "      <td>0.0</td>\n",
              "      <td>0.115525</td>\n",
              "      <td>0.000000</td>\n",
              "      <td>0.000000</td>\n",
              "      <td>0.000000</td>\n",
              "      <td>0.000000</td>\n",
              "      <td>0.115525</td>\n",
              "      <td>0.115525</td>\n",
              "    </tr>\n",
              "  </tbody>\n",
              "</table>\n",
              "</div>\n",
              "      <button class=\"colab-df-convert\" onclick=\"convertToInteractive('df-eb30dfec-4e04-41f2-9289-44e2bb46e8fa')\"\n",
              "              title=\"Convert this dataframe to an interactive table.\"\n",
              "              style=\"display:none;\">\n",
              "        \n",
              "  <svg xmlns=\"http://www.w3.org/2000/svg\" height=\"24px\"viewBox=\"0 0 24 24\"\n",
              "       width=\"24px\">\n",
              "    <path d=\"M0 0h24v24H0V0z\" fill=\"none\"/>\n",
              "    <path d=\"M18.56 5.44l.94 2.06.94-2.06 2.06-.94-2.06-.94-.94-2.06-.94 2.06-2.06.94zm-11 1L8.5 8.5l.94-2.06 2.06-.94-2.06-.94L8.5 2.5l-.94 2.06-2.06.94zm10 10l.94 2.06.94-2.06 2.06-.94-2.06-.94-.94-2.06-.94 2.06-2.06.94z\"/><path d=\"M17.41 7.96l-1.37-1.37c-.4-.4-.92-.59-1.43-.59-.52 0-1.04.2-1.43.59L10.3 9.45l-7.72 7.72c-.78.78-.78 2.05 0 2.83L4 21.41c.39.39.9.59 1.41.59.51 0 1.02-.2 1.41-.59l7.78-7.78 2.81-2.81c.8-.78.8-2.07 0-2.86zM5.41 20L4 18.59l7.72-7.72 1.47 1.35L5.41 20z\"/>\n",
              "  </svg>\n",
              "      </button>\n",
              "      \n",
              "  <style>\n",
              "    .colab-df-container {\n",
              "      display:flex;\n",
              "      flex-wrap:wrap;\n",
              "      gap: 12px;\n",
              "    }\n",
              "\n",
              "    .colab-df-convert {\n",
              "      background-color: #E8F0FE;\n",
              "      border: none;\n",
              "      border-radius: 50%;\n",
              "      cursor: pointer;\n",
              "      display: none;\n",
              "      fill: #1967D2;\n",
              "      height: 32px;\n",
              "      padding: 0 0 0 0;\n",
              "      width: 32px;\n",
              "    }\n",
              "\n",
              "    .colab-df-convert:hover {\n",
              "      background-color: #E2EBFA;\n",
              "      box-shadow: 0px 1px 2px rgba(60, 64, 67, 0.3), 0px 1px 3px 1px rgba(60, 64, 67, 0.15);\n",
              "      fill: #174EA6;\n",
              "    }\n",
              "\n",
              "    [theme=dark] .colab-df-convert {\n",
              "      background-color: #3B4455;\n",
              "      fill: #D2E3FC;\n",
              "    }\n",
              "\n",
              "    [theme=dark] .colab-df-convert:hover {\n",
              "      background-color: #434B5C;\n",
              "      box-shadow: 0px 1px 3px 1px rgba(0, 0, 0, 0.15);\n",
              "      filter: drop-shadow(0px 1px 2px rgba(0, 0, 0, 0.3));\n",
              "      fill: #FFFFFF;\n",
              "    }\n",
              "  </style>\n",
              "\n",
              "      <script>\n",
              "        const buttonEl =\n",
              "          document.querySelector('#df-eb30dfec-4e04-41f2-9289-44e2bb46e8fa button.colab-df-convert');\n",
              "        buttonEl.style.display =\n",
              "          google.colab.kernel.accessAllowed ? 'block' : 'none';\n",
              "\n",
              "        async function convertToInteractive(key) {\n",
              "          const element = document.querySelector('#df-eb30dfec-4e04-41f2-9289-44e2bb46e8fa');\n",
              "          const dataTable =\n",
              "            await google.colab.kernel.invokeFunction('convertToInteractive',\n",
              "                                                     [key], {});\n",
              "          if (!dataTable) return;\n",
              "\n",
              "          const docLinkHtml = 'Like what you see? Visit the ' +\n",
              "            '<a target=\"_blank\" href=https://colab.research.google.com/notebooks/data_table.ipynb>data table notebook</a>'\n",
              "            + ' to learn more about interactive tables.';\n",
              "          element.innerHTML = '';\n",
              "          dataTable['output_type'] = 'display_data';\n",
              "          await google.colab.output.renderOutput(dataTable, element);\n",
              "          const docLink = document.createElement('div');\n",
              "          docLink.innerHTML = docLinkHtml;\n",
              "          element.appendChild(docLink);\n",
              "        }\n",
              "      </script>\n",
              "    </div>\n",
              "  </div>\n",
              "  "
            ]
          },
          "metadata": {},
          "execution_count": 12
        }
      ]
    }
  ]
}