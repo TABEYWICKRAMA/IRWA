{
  "nbformat": 4,
  "nbformat_minor": 0,
  "metadata": {
    "colab": {
      "provenance": [],
      "authorship_tag": "ABX9TyPvICzNWOr511sPq9npUs8X",
      "include_colab_link": true
    },
    "kernelspec": {
      "name": "python3",
      "display_name": "Python 3"
    },
    "language_info": {
      "name": "python"
    }
  },
  "cells": [
    {
      "cell_type": "markdown",
      "metadata": {
        "id": "view-in-github",
        "colab_type": "text"
      },
      "source": [
        "<a href=\"https://colab.research.google.com/github/TABEYWICKRAMA/IRWA/blob/main/Lab_01.ipynb\" target=\"_parent\"><img src=\"https://colab.research.google.com/assets/colab-badge.svg\" alt=\"Open In Colab\"/></a>"
      ]
    },
    {
      "cell_type": "code",
      "execution_count": 1,
      "metadata": {
        "colab": {
          "base_uri": "https://localhost:8080/"
        },
        "id": "564niN5wpT6O",
        "outputId": "045412b7-dee2-4736-9edb-1b4e934efebe"
      },
      "outputs": [
        {
          "output_type": "stream",
          "name": "stdout",
          "text": [
            "<zip object at 0x7fcc4144ecd0>\n",
            "(('M', 'y'), ('na', 'me'), ('i', 's'), ('Ke', 'lly'))\n",
            "['My', 'name', 'is', 'Kelly']\n"
          ]
        }
      ],
      "source": [
        "# 1). Concatenate two lists index-wise\n",
        "# list1 = [\"M\", \"na\", \"i\", \"Ke\"] \n",
        "# list2 = [\"y\", \"me\", \"s\", \"lly\"]\n",
        "# Answer = ['My', 'name', 'is', 'Kelly']\n",
        "\n",
        "list1 = [\"M\", \"na\", \"i\", \"Ke\"] \n",
        "list2 = [\"y\", \"me\", \"s\", \"lly\"]\n",
        "\n",
        "list3 = zip(list1,list2)\n",
        "print(list3)                      #this will give an value in order to \n",
        "list4 = tuple(zip(list1,list2))   #get correct index wise matching we have to use tuple keyword.\n",
        "print(list4)                      #but if we need to get output we have to use for loop.\n",
        "\n",
        "list5 = [i+j for i,j in zip(list1,list2)]\n",
        "print(list5)"
      ]
    },
    {
      "cell_type": "code",
      "source": [
        "# 2). Given a Python list. Turn every item of a list into its square\n",
        "# List1 = [1, 2, 3, 4, 5, 6, 7]\n",
        "# Answer = [1, 4, 9, 16, 25, 36, 49]\n",
        "\n",
        "List1 = [1, 2, 3, 4, 5, 6, 7]\n",
        "\n",
        "answer = [n*n for n in List1]\n",
        "\n",
        "print(answer)\n"
      ],
      "metadata": {
        "colab": {
          "base_uri": "https://localhost:8080/"
        },
        "id": "_sIZt8RHscMo",
        "outputId": "c655017d-fef6-4139-c47b-e35e292d733f"
      },
      "execution_count": null,
      "outputs": [
        {
          "output_type": "stream",
          "name": "stdout",
          "text": [
            "[1, 4, 9, 16, 25, 36, 49]\n"
          ]
        }
      ]
    },
    {
      "cell_type": "code",
      "source": [
        "# 3). Given a two Python list. Iterate both lists simultaneously such that list1 should display item in \n",
        "# original order and list2 in reverse order\n",
        "# list1 = [10, 20, 30, 40]\n",
        "# list2 = [100, 200, 300, 400]\n",
        "# Answer = 10 400\n",
        "# 20 300\n",
        "# 30 200\n",
        "# 40 100\n",
        "\n",
        "list1 = [10, 20, 30, 40]\n",
        "list2 = [100, 200, 300, 400]\n",
        "\n",
        "#list3 = list2.reverse()\n",
        "#print(list3)            #this will not save reverse list. \n",
        "                        #because reversing is being happend to actual list. \n",
        "                        #that is \"list2\"\n",
        "\n",
        "x = list2.reverse()         # 1 method to reverse list\n",
        "print(list2)  \n",
        "\n",
        "list3 = [i+j for i,j in zip(list1,list2)]   #this will add two lists\n",
        "print(list3)                                #reason we use for loop in here.\n",
        "\n",
        "#correct answer\n",
        "list2 = list2[::-1]\n",
        "print(list2)    #reverse the list\n",
        "\n",
        "for x,y in zip(list1,list2):\n",
        "    print(x,y)\n",
        "\n",
        "\n"
      ],
      "metadata": {
        "colab": {
          "base_uri": "https://localhost:8080/"
        },
        "id": "XztpfUPlvjtx",
        "outputId": "13573c3d-975a-4187-f4e0-630af7c25be3"
      },
      "execution_count": null,
      "outputs": [
        {
          "output_type": "stream",
          "name": "stdout",
          "text": [
            "[400, 300, 200, 100]\n",
            "[410, 320, 230, 140]\n",
            "[100, 200, 300, 400]\n",
            "10 100\n",
            "20 200\n",
            "30 300\n",
            "40 400\n"
          ]
        }
      ]
    },
    {
      "cell_type": "code",
      "source": [
        "# 4). Given a nested list extend it with adding sub list [\"h\", \"i\", \"j\"] in a such a way that it will look \n",
        "# like the following list\n",
        "# list1 = [\"a\", \"b\", [\"c\", [\"d\", \"e\", [\"f\", \"g\"], \"k\"], \"l\"], \"m\", \"n\"]\n",
        "# Sub List to be added = [\"h\", \"i\", \"j\"]\n",
        "# Answer = ['a', 'b', ['c', ['d', 'e', ['f', 'g', 'h', 'i', 'j'], 'k'], 'l'], 'm', 'n']\n",
        "\n",
        "list1 = [\"a\", \"b\", [\"c\", [\"d\", \"e\", [\"f\", \"g\"], \"k\"], \"l\"], \"m\", \"n\"]\n",
        "sub_list = [\"h\", \"i\", \"j\"]\n",
        "\n",
        "\n",
        "#extending exist list\n",
        "list1[2][1][2].extend(sub_list)\n",
        "print(list1)\n",
        "\n",
        "#adding as a separate list\n",
        "list1[2][1][2].append(sub_list)\n",
        "print(list1)\n",
        "\n",
        "\n"
      ],
      "metadata": {
        "colab": {
          "base_uri": "https://localhost:8080/"
        },
        "id": "JGIYPxaT3D96",
        "outputId": "233ee921-620e-42a2-a72c-53f89a098cea"
      },
      "execution_count": null,
      "outputs": [
        {
          "output_type": "stream",
          "name": "stdout",
          "text": [
            "['a', 'b', ['c', ['d', 'e', ['f', 'g', 'h', 'i', 'j'], 'k'], 'l'], 'm', 'n']\n",
            "['a', 'b', ['c', ['d', 'e', ['f', 'g', 'h', 'i', 'j', ['h', 'i', 'j']], 'k'], 'l'], 'm', 'n']\n"
          ]
        }
      ]
    },
    {
      "cell_type": "code",
      "source": [
        "# 5). Given a Python list, remove all occurrence of 20 from the list\n",
        "# list1 = [5, 20, 15, 20, 25, 50, 20]\n",
        "# Answer = [5, 15, 25, 50]\n",
        "\n",
        "\n",
        "\n",
        "\n",
        "\n",
        "\n",
        "\n"
      ],
      "metadata": {
        "id": "LlUccdZpGMDL"
      },
      "execution_count": null,
      "outputs": []
    },
    {
      "cell_type": "code",
      "source": [
        "# 6). Below are the two lists convert it into the dictionary\n",
        "# keys = ['Ten', 'Twenty', 'Thirty']\n",
        "# values = [10, 20, 30]\n",
        "# Answer = {'Ten': 10, 'Twenty': 20, 'Thirty': 30}\n",
        "\n",
        "keys = ['Ten', 'Twenty', 'Thirty']\n",
        "values = [10, 20, 30]\n",
        "\n",
        "# 01 method----------------------------------------------\n",
        "answer = dict(zip(keys, values))\n",
        "\n",
        "print(answer)\n",
        "\n",
        "# 02 method----------------------------------------------\n",
        "# print(\"Original key list is : \" + str(keys))\n",
        "# print(\"Original value list is : \" + str(values))\n",
        "\n",
        "# res = {}\n",
        "# for key in keys:\n",
        "#     for value in values:\n",
        "#         res[key] = value\n",
        "#         values.remove(value)\n",
        "#         break\n",
        "# print (\"Resultant dictionary is : \" +str(res))\n",
        "\n",
        "\n",
        "\n",
        "\n",
        "\n",
        "\n",
        "\n",
        "\n"
      ],
      "metadata": {
        "colab": {
          "base_uri": "https://localhost:8080/"
        },
        "id": "l5FT_0Hk8zeH",
        "outputId": "87a9a608-3a6b-4220-cdad-46aa07a28a4e"
      },
      "execution_count": null,
      "outputs": [
        {
          "output_type": "stream",
          "name": "stdout",
          "text": [
            "Original key list is : ['Ten', 'Twenty', 'Thirty']\n",
            "Original value list is : [10, 20, 30]\n",
            "Resultant dictionary is : {'Ten': 10, 'Twenty': 20, 'Thirty': 30}\n"
          ]
        }
      ]
    },
    {
      "cell_type": "code",
      "source": [
        "# 7). Merge following two Python dictionaries into one\n",
        "# dict1 = {'Ten': 10, 'Twenty': 20, 'Thirty': 30}\n",
        "# dict2 = {'Thirty': 30, 'Fourty': 40, 'Fifty': 50}\n",
        "# Answer = {'Ten': 10, 'Twenty': 20, 'Thirty': 30, 'Fourty': 40, 'Fifty': 50}\n",
        "\n",
        "\n",
        "dict1 = {'Ten': 10, 'Twenty': 20, 'Thirty': 30}\n",
        "dict2 = {'Thirty': 30, 'Fourty': 40, 'Fifty': 50}\n",
        "\n",
        "# 01 method--------------------------------------------------\n",
        "dict3 = {**dict1, **dict2}\n",
        "print(dict3)\n",
        "\n",
        "# 02 method--------------------------------------------------\n",
        "def Merge(dict1, dict2):           \n",
        "    return(dict2.update(dict1))     #copy all the details in dictionary 1 to dictionary 2\n",
        "\n",
        "print(Merge(dict1, dict2))    #this will print nothing\n",
        "\n",
        "print(dict2)          #this will print merging dictionary\n",
        "                  \n",
        "print(dict1)   \n",
        "\n",
        "\n"
      ],
      "metadata": {
        "colab": {
          "base_uri": "https://localhost:8080/"
        },
        "id": "s6uwfUv6-NkE",
        "outputId": "736614cb-b961-40c8-a7c3-fcf6049f9879"
      },
      "execution_count": null,
      "outputs": [
        {
          "output_type": "stream",
          "name": "stdout",
          "text": [
            "{'Ten': 10, 'Twenty': 20, 'Thirty': 30, 'Fourty': 40, 'Fifty': 50}\n",
            "None\n",
            "{'Thirty': 30, 'Fourty': 40, 'Fifty': 50, 'Ten': 10, 'Twenty': 20}\n",
            "{'Ten': 10, 'Twenty': 20, 'Thirty': 30}\n"
          ]
        }
      ]
    },
    {
      "cell_type": "markdown",
      "source": [
        "***#If we change particular key in a dictionary***"
      ],
      "metadata": {
        "id": "G5eCtcR-Dg7-"
      }
    },
    {
      "cell_type": "code",
      "source": [
        "# 8). Rename key city to location in the following dictionary\n",
        "# sampleDict = {\n",
        "#  \"name\": \"Kelly\",\n",
        "#  \"age\":25,\n",
        "#  \"salary\": 8000,\n",
        "#  \"city\": \"New york\"\n",
        "# }\n",
        "# Answer = {\n",
        "#  \"name\": \"Kelly\",\n",
        "#  \"age\":25,\n",
        "#  \"salary\": 8000,\n",
        "#  \"location\": \"New york\"\n",
        "# }\n",
        "\n",
        "sampleDict = {\n",
        " \"name\": \"Kelly\",\n",
        " \"age\":25,\n",
        " \"salary\": 8000,\n",
        " \"city\": \"New york\"\n",
        "}\n",
        "\n",
        "\n",
        "\n",
        "print(sampleDict)\n",
        "sampleDict['location'] = sampleDict['city']\n",
        "sampleDict['location'] = sampleDict.pop('city')\n",
        "print(sampleDict)\n",
        "\n",
        "\n",
        "\n",
        "\n"
      ],
      "metadata": {
        "colab": {
          "base_uri": "https://localhost:8080/"
        },
        "id": "DmsAtI67Bkhp",
        "outputId": "ab6cfdb0-c4b6-478b-86a1-f3cb4444be38"
      },
      "execution_count": null,
      "outputs": [
        {
          "output_type": "stream",
          "name": "stdout",
          "text": [
            "{'name': 'Kelly', 'age': 25, 'salary': 8000, 'city': 'New york'}\n",
            "{'name': 'Kelly', 'age': 25, 'salary': 8000, 'location': 'New york'}\n"
          ]
        }
      ]
    },
    {
      "cell_type": "code",
      "source": [
        "# 9). Delete set of keys from Python Dictionary\n",
        "#\n",
        "# sampleDict = {\n",
        "#     \"name\": \"Kelly\",\n",
        "#     \"age\": 25,\n",
        "#     \"salary\": 8000,\n",
        "#     \"city\": \"New york\"\n",
        "#\n",
        "# }\n",
        "# keysToRemove = [\"name\", \"salary\"]\n",
        "# Answer = {'city': 'New york', 'age': 25}\n",
        "\n",
        "sampleDict = {\n",
        "    \"name\": \"Kelly\",\n",
        "    \"age\": 25,\n",
        "    \"salary\": 8000,\n",
        "    \"city\": \"New york\"\n",
        "\n",
        "}\n",
        "\n",
        "# sampleDict.pop(\"name\",\"salary\")   #this will delete only \"name\"\n",
        "# print(sampleDict)\n",
        "\n",
        "#-----------------------------------method 01--------------------------------\n",
        "sampleDict.pop(\"name\")\n",
        "sampleDict.pop(\"salary\")\n",
        "print(sampleDict)\n",
        "\n",
        "#-----------------------------------method 02--------------------------------\n",
        "keysToRemove = [\"name\", \"salary\"]\n",
        "\n",
        "for i in keysToRemove:\n",
        "    del sampleDict[i]\n",
        "\n",
        "print(sampleDict)\n",
        "\n",
        "\n"
      ],
      "metadata": {
        "colab": {
          "base_uri": "https://localhost:8080/"
        },
        "id": "XKlhpWhGDMXZ",
        "outputId": "2307ad99-bc37-41b7-e5b8-cb1f2fb72ca9"
      },
      "execution_count": null,
      "outputs": [
        {
          "output_type": "stream",
          "name": "stdout",
          "text": [
            "{'age': 25, 'city': 'New york'}\n"
          ]
        }
      ]
    },
    {
      "cell_type": "code",
      "source": [
        "# 10). Create a new dictionary by extracting the following keys from a given dictionary\n",
        "# Given Dictionary\n",
        "# sampleDict = {\n",
        "#     \"name\": \"Kelly\",\n",
        "#     \"age\": 25,\n",
        "#     \"salary\": 8000,\n",
        "#     \"city\": \"New york\"\n",
        "#\n",
        "# }\n",
        "# Keys to extract\n",
        "# keys = [\"name\", \"salary\"]\n",
        "# Answer = {'name': 'Kelly', 'salary': 8000}\n",
        "\n",
        "sampleDict = {\n",
        "    \"name\": \"Kelly\",\n",
        "    \"age\": 25,\n",
        "    \"salary\": 8000,\n",
        "    \"city\": \"New york\"\n",
        "\n",
        "}\n",
        "\n",
        "# use for loop\n",
        "# add to dictionary\n",
        "\n",
        "x = [\"name\", \"salary\"]\n",
        "\n",
        "\n",
        "newDict = dict()\n",
        "\n",
        "for i in sampleDict.keys() and x:     #check similarity between list \"x\" and simpleDict dictionary keys   \n",
        "    newDict[i] = sampleDict[i]        ##at the same time get keys from sampleDict and add them to newDict\n",
        "print(newDict)"
      ],
      "metadata": {
        "colab": {
          "base_uri": "https://localhost:8080/"
        },
        "id": "XefiFrB8FF_d",
        "outputId": "8c43aa2b-336c-465f-b2d1-82b6d45b306c"
      },
      "execution_count": null,
      "outputs": [
        {
          "output_type": "stream",
          "name": "stdout",
          "text": [
            "{'name': 'Kelly', 'salary': 8000}\n"
          ]
        }
      ]
    },
    {
      "cell_type": "code",
      "source": [
        "# 11). Given a list iterate it and display numbers which are divisible by 5 and if you find number\n",
        "# greater than 150 stop the loop iteration\n",
        "# list1 = [12, 15, 32, 42, 55, 75, 122, 132, 150, 180, 200]\n",
        "# Answer =\n",
        "# 15\n",
        "# 55\n",
        "# 75\n",
        "# 150\n",
        "\n",
        "\n",
        "list1 = [12, 15, 32, 42, 55, 75, 122, 132, 150, 180, 200]\n",
        "\n",
        "for i in list1:\n",
        "  if i > 150:\n",
        "    break\n",
        "  if i % 5 == 0:\n",
        "    print(i)"
      ],
      "metadata": {
        "colab": {
          "base_uri": "https://localhost:8080/"
        },
        "id": "ZV_BjeBvGXc8",
        "outputId": "b5b096e1-c658-4038-adf7-ec9beadf5cac"
      },
      "execution_count": null,
      "outputs": [
        {
          "output_type": "stream",
          "name": "stdout",
          "text": [
            "15\n",
            "55\n",
            "75\n",
            "150\n"
          ]
        }
      ]
    },
    {
      "cell_type": "code",
      "source": [
        "# 12). Generate a Python list of all the even numbers between 4 to 30\n",
        "# Answer = [4, 6, 8, 10, 12, 14, 16, 18, 20, 22, 24, 26, 28]\n",
        "\n",
        "# condition 1\n",
        "# i % 2 == 0\n",
        "\n",
        "# condition 2\n",
        "# 4 to 30 \n",
        "\n",
        "# method 1 printing numbers as normal\n",
        "for num in range(4,30,2):\n",
        "  print(num)\n",
        "\n",
        "\n",
        "# method 2 printing numbers as a list\n",
        "list1 = []              #create a empty list\n",
        "\n",
        "for num in range(4,30):   #define range\n",
        "    if num % 2 ==0 :      \n",
        "        list1.append(num)  #add values to end of the \"listl\"\n",
        "print(list1)\n"
      ],
      "metadata": {
        "colab": {
          "base_uri": "https://localhost:8080/"
        },
        "id": "a7VA7ebzH2wP",
        "outputId": "ffe86fca-f605-47a6-bcb5-48276f64304b"
      },
      "execution_count": null,
      "outputs": [
        {
          "output_type": "stream",
          "name": "stdout",
          "text": [
            "4\n",
            "6\n",
            "8\n",
            "10\n",
            "12\n",
            "14\n",
            "16\n",
            "18\n",
            "20\n",
            "22\n",
            "24\n",
            "26\n",
            "28\n",
            "[4, 6, 8, 10, 12, 14, 16, 18, 20, 22, 24, 26, 28]\n"
          ]
        }
      ]
    },
    {
      "cell_type": "code",
      "source": [
        "# 13). Count all lower case, upper case, digits, and special symbols from a given string\n",
        "# input_str = \"P@#yn26at^&i5ve\"\n",
        "# Total counts of chars, digits,and symbols\n",
        "# Chars = 8\n",
        "# Digits = 3\n",
        "# Symbol = 4\n",
        "\n",
        "input_str = \"P@#yn26at^&i5ve\"\n",
        "lccount = 0\n",
        "upcount = 0\n",
        "digcount = 0\n",
        "symbol = 0\n",
        "for x in input_str:\n",
        "    if x.islower():\n",
        "        lccount += 1\n",
        "    elif x.isupper():\n",
        "        upcount += 1\n",
        "    elif x.isdigit():\n",
        "        digcount += 1\n",
        "    else:\n",
        "        symbol+= 1\n",
        "\n",
        "print(\"lower case count: \", lccount, \"upper case count: \", upcount, \"digit count: \", digcount, \"symbol: \", symbol)\n",
        "\n"
      ],
      "metadata": {
        "colab": {
          "base_uri": "https://localhost:8080/"
        },
        "id": "22F9q27aI6sL",
        "outputId": "045eed9d-f331-43fa-c75f-c679ef0b7bbf"
      },
      "execution_count": null,
      "outputs": [
        {
          "output_type": "stream",
          "name": "stdout",
          "text": [
            "lower case count:  7 upper case count:  1 digit count:  3 symbol:  4\n"
          ]
        }
      ]
    },
    {
      "cell_type": "code",
      "source": [
        "# 14). Given an input string, count occurrences of all characters within a string\n",
        "# count(\"pynativepynvepynative\") = {'p': 3, 'y': 3, 'n': 3, 'a': 2, 't': 2, 'i': 2, 'v': 3, 'e': 3}\n",
        "\n",
        "\n",
        "\n",
        "input_str = \"pynativepynvepynative\"\n",
        "\n",
        "newDict = dict()\n",
        "\n",
        "\n",
        "for i in input_str:\n",
        "    count = input_str.count(i)\n",
        "    newDict[i] = count\n",
        "\n",
        "print(newDict)\n",
        "\n"
      ],
      "metadata": {
        "colab": {
          "base_uri": "https://localhost:8080/"
        },
        "id": "C-YaIWryJL7w",
        "outputId": "c13017dd-225b-4e99-d942-47b2c8a58665"
      },
      "execution_count": null,
      "outputs": [
        {
          "output_type": "stream",
          "name": "stdout",
          "text": [
            "{'p': 3, 'y': 3, 'n': 3, 'a': 2, 't': 2, 'i': 2, 'v': 3, 'e': 3}\n"
          ]
        }
      ]
    },
    {
      "cell_type": "code",
      "source": [
        "# 15). Roll dice in such a way that every time you get the same number\n",
        "# Dice has 6 numbers (from 1 to 6). Roll dice in such a way that every time you must get the same output number. do\n",
        "# this 5 times\n",
        "\n",
        "# number of times = 5\n",
        "\n",
        "import random\n",
        "\n",
        "dice = [1,2,3,4,5,6]\n",
        "for i in range(5):\n",
        "    random.seed(34)         #this function is used to get same output for each loop iteration\n",
        "    print(random.choice(dice))\n"
      ],
      "metadata": {
        "colab": {
          "base_uri": "https://localhost:8080/"
        },
        "id": "QurDL7TkKiAP",
        "outputId": "171d37be-fd08-43b6-cbbe-12b82ef1a663"
      },
      "execution_count": null,
      "outputs": [
        {
          "output_type": "stream",
          "name": "stdout",
          "text": [
            "5\n",
            "5\n",
            "5\n",
            "5\n",
            "5\n"
          ]
        }
      ]
    }
  ]
}