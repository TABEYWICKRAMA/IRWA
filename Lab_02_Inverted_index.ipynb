{
  "nbformat": 4,
  "nbformat_minor": 0,
  "metadata": {
    "colab": {
      "provenance": [],
      "collapsed_sections": [],
      "authorship_tag": "ABX9TyNAlDD7CZ90QPz0aaDCnFx4",
      "include_colab_link": true
    },
    "kernelspec": {
      "name": "python3",
      "display_name": "Python 3"
    },
    "language_info": {
      "name": "python"
    }
  },
  "cells": [
    {
      "cell_type": "markdown",
      "metadata": {
        "id": "view-in-github",
        "colab_type": "text"
      },
      "source": [
        "<a href=\"https://colab.research.google.com/github/TABEYWICKRAMA/IRWA/blob/main/Lab_02_Inverted_index.ipynb\" target=\"_parent\"><img src=\"https://colab.research.google.com/assets/colab-badge.svg\" alt=\"Open In Colab\"/></a>"
      ]
    },
    {
      "cell_type": "markdown",
      "source": [
        "LAB 02 - inverted index "
      ],
      "metadata": {
        "id": "eVDL3dX5mPHy"
      }
    },
    {
      "cell_type": "code",
      "source": [
        "from google.colab import drive\n",
        "drive.mount('/content/drive')"
      ],
      "metadata": {
        "colab": {
          "base_uri": "https://localhost:8080/"
        },
        "id": "O9sb_i8smVT3",
        "outputId": "5287caa7-9115-4b7f-e4ab-0a6b95045d01"
      },
      "execution_count": 2,
      "outputs": [
        {
          "output_type": "stream",
          "name": "stdout",
          "text": [
            "Drive already mounted at /content/drive; to attempt to forcibly remount, call drive.mount(\"/content/drive\", force_remount=True).\n"
          ]
        }
      ]
    },
    {
      "cell_type": "code",
      "source": [
        "%cd /content/drive/MyDrive/IRWA_LAB_02"
      ],
      "metadata": {
        "colab": {
          "base_uri": "https://localhost:8080/"
        },
        "id": "JoGGfHBln0z_",
        "outputId": "ed17b5e3-87ee-44e1-b9f9-7634a6f6543b"
      },
      "execution_count": 3,
      "outputs": [
        {
          "output_type": "stream",
          "name": "stdout",
          "text": [
            "/content/drive/MyDrive/IRWA_LAB_02\n"
          ]
        }
      ]
    },
    {
      "cell_type": "code",
      "source": [
        "import os\n",
        "\n",
        "dictionary = dict()\n",
        "directory = os.getcwd()+'/inverted'\n",
        "print(directory)\n",
        "\n",
        "files = os.listdir(directory)\n",
        "print(files)\n",
        "\n",
        "for file in files:\n",
        "  with open(os.getcwd()+'/inverted/'+file,'r') as f:\n",
        "    # print(f)\n",
        "    words = f.read().lower().split()\n",
        "    print(words)\n",
        "    for word in words:\n",
        "      if word not in dictionary:\n",
        "        dictionary[word]=[file]\n",
        "      else:\n",
        "        dictionary[word].append(file)\n",
        "print(dictionary)"
      ],
      "metadata": {
        "colab": {
          "base_uri": "https://localhost:8080/"
        },
        "id": "ftQIWzJyn8Lv",
        "outputId": "a562c120-e292-402c-cde0-426c1a8e6eb2"
      },
      "execution_count": 4,
      "outputs": [
        {
          "output_type": "stream",
          "name": "stdout",
          "text": [
            "/content/drive/MyDrive/IRWA_LAB_02/inverted\n",
            "['Doc1.txt', 'Doc2.txt', 'Doc3.txt', 'Doc4.txt']\n",
            "['breakthrough', 'drug', 'for', 'schizophrenia']\n",
            "['new', 'schizophrenia', 'drug']\n",
            "['new', 'approach', 'for', 'treatment', 'of', 'schizophrenia']\n",
            "['new', 'hopes', 'for', 'schizophrenia', 'patients']\n",
            "{'breakthrough': ['Doc1.txt'], 'drug': ['Doc1.txt', 'Doc2.txt'], 'for': ['Doc1.txt', 'Doc3.txt', 'Doc4.txt'], 'schizophrenia': ['Doc1.txt', 'Doc2.txt', 'Doc3.txt', 'Doc4.txt'], 'new': ['Doc2.txt', 'Doc3.txt', 'Doc4.txt'], 'approach': ['Doc3.txt'], 'treatment': ['Doc3.txt'], 'of': ['Doc3.txt'], 'hopes': ['Doc4.txt'], 'patients': ['Doc4.txt']}\n"
          ]
        }
      ]
    },
    {
      "cell_type": "code",
      "source": [
        "import os\n",
        "\n",
        "def invertedIndex():\n",
        "  dictionary = dict()\n",
        "  directory = os.getcwd()+'/inverted'\n",
        "  #print(directory)\n",
        "\n",
        "  files = os.listdir(directory)\n",
        "  print(files)\n",
        "\n",
        "  for file in files:\n",
        "    with open(os.getcwd()+'/inverted/'+file,'r') as f:\n",
        "      # print(f)\n",
        "      words = f.read().lower().split()\n",
        "      print(words)\n",
        "      for word in words:\n",
        "        if word not in dictionary:\n",
        "          dictionary[word]=[file]\n",
        "        else:\n",
        "          dictionary[word].append(file)\n",
        "  return(dictionary)"
      ],
      "metadata": {
        "id": "yvyd0-V59GKL"
      },
      "execution_count": 5,
      "outputs": []
    },
    {
      "cell_type": "code",
      "source": [
        "def And_op(list1,list2):\n",
        "  if((list1) and (list2)):\n",
        "    return set(list1).intersection(list2)\n",
        "  else:\n",
        "    return()\n",
        "\n",
        "\n",
        "\n",
        "ii=invertedIndex()\n",
        "\n",
        "for key in ii:\n",
        "  if key =='schizophrenia':\n",
        "    list1 = ii[key]\n",
        "    print('Document 1 : ',list1)\n",
        "  if key == 'drug':\n",
        "    list2 = ii[key]\n",
        "    print('Document 2 : ',list2)\n",
        "\n",
        "\n",
        "print('schizophrenia AND drug : ',And_op(list1,list2))\n",
        "  \n"
      ],
      "metadata": {
        "colab": {
          "base_uri": "https://localhost:8080/"
        },
        "id": "Td9de_1i70K1",
        "outputId": "d32a4218-3380-4ff8-a616-74c9673f6adf"
      },
      "execution_count": 6,
      "outputs": [
        {
          "output_type": "stream",
          "name": "stdout",
          "text": [
            "['Doc1.txt', 'Doc2.txt', 'Doc3.txt', 'Doc4.txt']\n",
            "['breakthrough', 'drug', 'for', 'schizophrenia']\n",
            "['new', 'schizophrenia', 'drug']\n",
            "['new', 'approach', 'for', 'treatment', 'of', 'schizophrenia']\n",
            "['new', 'hopes', 'for', 'schizophrenia', 'patients']\n",
            "Document 2 :  ['Doc1.txt', 'Doc2.txt']\n",
            "Document 1 :  ['Doc1.txt', 'Doc2.txt', 'Doc3.txt', 'Doc4.txt']\n",
            "schizophrenia AND drug :  {'Doc2.txt', 'Doc1.txt'}\n"
          ]
        }
      ]
    },
    {
      "cell_type": "code",
      "source": [
        "# I. schizophrenia AND drug\n",
        "\n",
        "def And_op(list1,list2):\n",
        "  if((list1) and (list2)):\n",
        "    return set(list1).intersection(list2)\n",
        "  else:\n",
        "    return()\n",
        "\n",
        "def Or_op(list1,list2):\n",
        "  return set(list1).union(list2)\n",
        "\n",
        "def Not_op(a):\n",
        "  directory=os.getcwd()+'/inverted'\n",
        "  filelist=os.listdir(directory)\n",
        "  return set(filelist).symmetric_difference(a)       #symmetric_difference is a method to perform 'NOT' operator\n",
        "\n",
        "\n",
        "\n",
        "\n",
        "ii=invertedIndex()\n",
        "\n",
        "for key in ii:\n",
        "  if key =='schizophrenia':\n",
        "    list1 = ii[key]\n",
        "    print('Document 1 : ',list1)\n",
        "  if key == 'drug':\n",
        "    list2 = ii[key]\n",
        "    print('Document 2 : ',list2)\n",
        "\n",
        "\n",
        "print('schizophrenia AND drug : ',And_op(list1,list2))\n",
        "\n",
        "\n",
        "\n",
        "\n"
      ],
      "metadata": {
        "colab": {
          "base_uri": "https://localhost:8080/"
        },
        "id": "_JSQBxaNjLH2",
        "outputId": "2adc294b-b305-4274-decb-0972e1d5ede0"
      },
      "execution_count": 7,
      "outputs": [
        {
          "output_type": "stream",
          "name": "stdout",
          "text": [
            "['Doc1.txt', 'Doc2.txt', 'Doc3.txt', 'Doc4.txt']\n",
            "['breakthrough', 'drug', 'for', 'schizophrenia']\n",
            "['new', 'schizophrenia', 'drug']\n",
            "['new', 'approach', 'for', 'treatment', 'of', 'schizophrenia']\n",
            "['new', 'hopes', 'for', 'schizophrenia', 'patients']\n",
            "Document 2 :  ['Doc1.txt', 'Doc2.txt']\n",
            "Document 1 :  ['Doc1.txt', 'Doc2.txt', 'Doc3.txt', 'Doc4.txt']\n",
            "schizophrenia AND drug :  {'Doc2.txt', 'Doc1.txt'}\n"
          ]
        }
      ]
    },
    {
      "cell_type": "code",
      "source": [
        "# II. for AND NOT(drug OR approach)\n",
        "ii=invertedIndex()\n",
        "\n",
        "for key in ii:\n",
        "  if key =='approach':\n",
        "    list1 = ii[key]\n",
        "    \n",
        "  if key == 'drug':\n",
        "    list2 = ii[key]\n",
        "    \n",
        "  if key == 'for':\n",
        "    list3 = ii[key]\n",
        "\n",
        "list4 = Or_op(list1,list2)\n",
        "print('drug OR approach : ',list4)\n",
        "list5 =Not_op(list4)\n",
        "print('NOT : ',list5)\n",
        "list6 = And_op(list3,list5)\n",
        "print('for AND NOT(drug OR approach) : ', list6)"
      ],
      "metadata": {
        "colab": {
          "base_uri": "https://localhost:8080/"
        },
        "id": "L-kyIKBTiPPi",
        "outputId": "d9fc7535-bf00-4727-bbf3-c00da7113976"
      },
      "execution_count": 8,
      "outputs": [
        {
          "output_type": "stream",
          "name": "stdout",
          "text": [
            "['Doc1.txt', 'Doc2.txt', 'Doc3.txt', 'Doc4.txt']\n",
            "['breakthrough', 'drug', 'for', 'schizophrenia']\n",
            "['new', 'schizophrenia', 'drug']\n",
            "['new', 'approach', 'for', 'treatment', 'of', 'schizophrenia']\n",
            "['new', 'hopes', 'for', 'schizophrenia', 'patients']\n",
            "drug OR approach :  {'Doc3.txt', 'Doc2.txt', 'Doc1.txt'}\n",
            "NOT :  {'Doc4.txt'}\n",
            "for AND NOT(drug OR approach) :  {'Doc4.txt'}\n"
          ]
        }
      ]
    },
    {
      "cell_type": "markdown",
      "source": [
        "## that is about creating inverted indexes using pure python-----------------------------"
      ],
      "metadata": {
        "id": "oN5t6QKPmN17"
      }
    },
    {
      "cell_type": "markdown",
      "source": [
        "# tokenizing & Stemming "
      ],
      "metadata": {
        "id": "Cr0KYPnZ3A25"
      }
    },
    {
      "cell_type": "code",
      "source": [
        "import nltk\n",
        "from nltk.corpus import stopwords\n",
        "from nltk.tokenize import word_tokenize  #this is the method to use spliting the words\n",
        "from nltk.stem import PorterStemmer       # import library for stemming    \n",
        "  \n",
        "\n",
        "sw= stopwords.words('english')\n",
        "print(sw)\n",
        "\n",
        "quote = \"Pythoners are very intelligent and work very pythonly and now they are pythoning their way to success.\"\n",
        "tokenized_words = word_tokenize(quote)\n",
        "print(tokenized_words)\n",
        "\n",
        "#in here we are done Stemming part -------------------------------------------------------------------------------------------------\n",
        "stemmed_words = []\n",
        "stemmer = PorterStemmer()\n",
        "for i in tokenized_words:\n",
        "  stemmed_words.append(stemmer.stem(i))\n",
        "print(stemmed_words)\n",
        "\n",
        "#when doing stemming some of words can be different\n",
        "#some of them are not having any meaning"
      ],
      "metadata": {
        "colab": {
          "base_uri": "https://localhost:8080/"
        },
        "id": "uG3l1fWynb0o",
        "outputId": "2970b7ef-18ac-4bf8-fbbb-117367ddaaed"
      },
      "execution_count": 22,
      "outputs": [
        {
          "output_type": "stream",
          "name": "stdout",
          "text": [
            "['i', 'me', 'my', 'myself', 'we', 'our', 'ours', 'ourselves', 'you', \"you're\", \"you've\", \"you'll\", \"you'd\", 'your', 'yours', 'yourself', 'yourselves', 'he', 'him', 'his', 'himself', 'she', \"she's\", 'her', 'hers', 'herself', 'it', \"it's\", 'its', 'itself', 'they', 'them', 'their', 'theirs', 'themselves', 'what', 'which', 'who', 'whom', 'this', 'that', \"that'll\", 'these', 'those', 'am', 'is', 'are', 'was', 'were', 'be', 'been', 'being', 'have', 'has', 'had', 'having', 'do', 'does', 'did', 'doing', 'a', 'an', 'the', 'and', 'but', 'if', 'or', 'because', 'as', 'until', 'while', 'of', 'at', 'by', 'for', 'with', 'about', 'against', 'between', 'into', 'through', 'during', 'before', 'after', 'above', 'below', 'to', 'from', 'up', 'down', 'in', 'out', 'on', 'off', 'over', 'under', 'again', 'further', 'then', 'once', 'here', 'there', 'when', 'where', 'why', 'how', 'all', 'any', 'both', 'each', 'few', 'more', 'most', 'other', 'some', 'such', 'no', 'nor', 'not', 'only', 'own', 'same', 'so', 'than', 'too', 'very', 's', 't', 'can', 'will', 'just', 'don', \"don't\", 'should', \"should've\", 'now', 'd', 'll', 'm', 'o', 're', 've', 'y', 'ain', 'aren', \"aren't\", 'couldn', \"couldn't\", 'didn', \"didn't\", 'doesn', \"doesn't\", 'hadn', \"hadn't\", 'hasn', \"hasn't\", 'haven', \"haven't\", 'isn', \"isn't\", 'ma', 'mightn', \"mightn't\", 'mustn', \"mustn't\", 'needn', \"needn't\", 'shan', \"shan't\", 'shouldn', \"shouldn't\", 'wasn', \"wasn't\", 'weren', \"weren't\", 'won', \"won't\", 'wouldn', \"wouldn't\"]\n",
            "['Pythoners', 'are', 'very', 'intelligent', 'and', 'work', 'very', 'pythonly', 'and', 'now', 'they', 'are', 'pythoning', 'their', 'way', 'to', 'success', '.']\n",
            "['python', 'are', 'veri', 'intellig', 'and', 'work', 'veri', 'pythonli', 'and', 'now', 'they', 'are', 'python', 'their', 'way', 'to', 'success', '.']\n"
          ]
        }
      ]
    },
    {
      "cell_type": "code",
      "source": [
        "#got this code from an error from above code\n",
        "#this will download all the relevant modules of stopwords\n",
        "import nltk\n",
        "nltk.download('stopwords')"
      ],
      "metadata": {
        "colab": {
          "base_uri": "https://localhost:8080/"
        },
        "id": "iOnsJHBdnzyQ",
        "outputId": "04080cbc-4b1b-4640-aae7-62c96222d92a"
      },
      "execution_count": 10,
      "outputs": [
        {
          "output_type": "stream",
          "name": "stderr",
          "text": [
            "[nltk_data] Downloading package stopwords to /root/nltk_data...\n",
            "[nltk_data]   Unzipping corpora/stopwords.zip.\n"
          ]
        },
        {
          "output_type": "execute_result",
          "data": {
            "text/plain": [
              "True"
            ]
          },
          "metadata": {},
          "execution_count": 10
        }
      ]
    },
    {
      "cell_type": "code",
      "source": [
        "#got this code from an error from above code\n",
        "#this will download all the relevant modules of spliting\n",
        "\n",
        "import nltk\n",
        "nltk.download('punkt')"
      ],
      "metadata": {
        "colab": {
          "base_uri": "https://localhost:8080/"
        },
        "id": "3B01093gpvyx",
        "outputId": "06fbf0eb-edf4-42b6-f225-9e97e939aa34"
      },
      "execution_count": 14,
      "outputs": [
        {
          "output_type": "stream",
          "name": "stderr",
          "text": [
            "[nltk_data] Downloading package punkt to /root/nltk_data...\n",
            "[nltk_data]   Unzipping tokenizers/punkt.zip.\n"
          ]
        },
        {
          "output_type": "execute_result",
          "data": {
            "text/plain": [
              "True"
            ]
          },
          "metadata": {},
          "execution_count": 14
        }
      ]
    },
    {
      "cell_type": "code",
      "source": [
        "# a) Remove stop words in the given string using nltk library\n",
        "\n",
        "\n",
        "new_list_without_stop_words = []\n",
        "\n",
        "for tw in tokenized_words:\n",
        "  if tw not in sw:\n",
        "    new_list_without_stop_words.append(tw)\n",
        "print(new_list_without_stop_words)        #this will print a list without stop words\n",
        "\n"
      ],
      "metadata": {
        "colab": {
          "base_uri": "https://localhost:8080/"
        },
        "id": "Ni9PXBXLn8QZ",
        "outputId": "fa757164-21fa-4903-e93b-8ef182a21729"
      },
      "execution_count": 16,
      "outputs": [
        {
          "output_type": "stream",
          "name": "stdout",
          "text": [
            "['Pythoners', 'intelligent', 'work', 'pythonly', 'pythoning', 'way', 'success', '.']\n"
          ]
        }
      ]
    },
    {
      "cell_type": "code",
      "source": [
        "# Include ‘intelligent, ‘work’ as stopwords and print the new word list after removing stopwords\n",
        "\n",
        "import nltk\n",
        "from nltk.corpus import stopwords\n",
        "from nltk.tokenize import word_tokenize  #this is the method to use spliting the words\n",
        "    \n",
        "\n",
        "nltk_stop_word_list = stopwords.words('english')\n",
        "new_stop_words=['‘intelligent','‘work’']\n",
        "final_stop_word_list = new_stop_words + stopwords.words('english')\n",
        "print(final_stop_word_list)\n",
        "\n"
      ],
      "metadata": {
        "colab": {
          "base_uri": "https://localhost:8080/"
        },
        "id": "TqTjSmOmru4Z",
        "outputId": "2e5f2372-42d6-40d3-f41c-04b8809363ad"
      },
      "execution_count": 20,
      "outputs": [
        {
          "output_type": "stream",
          "name": "stdout",
          "text": [
            "['‘intelligent', '‘work’', 'i', 'me', 'my', 'myself', 'we', 'our', 'ours', 'ourselves', 'you', \"you're\", \"you've\", \"you'll\", \"you'd\", 'your', 'yours', 'yourself', 'yourselves', 'he', 'him', 'his', 'himself', 'she', \"she's\", 'her', 'hers', 'herself', 'it', \"it's\", 'its', 'itself', 'they', 'them', 'their', 'theirs', 'themselves', 'what', 'which', 'who', 'whom', 'this', 'that', \"that'll\", 'these', 'those', 'am', 'is', 'are', 'was', 'were', 'be', 'been', 'being', 'have', 'has', 'had', 'having', 'do', 'does', 'did', 'doing', 'a', 'an', 'the', 'and', 'but', 'if', 'or', 'because', 'as', 'until', 'while', 'of', 'at', 'by', 'for', 'with', 'about', 'against', 'between', 'into', 'through', 'during', 'before', 'after', 'above', 'below', 'to', 'from', 'up', 'down', 'in', 'out', 'on', 'off', 'over', 'under', 'again', 'further', 'then', 'once', 'here', 'there', 'when', 'where', 'why', 'how', 'all', 'any', 'both', 'each', 'few', 'more', 'most', 'other', 'some', 'such', 'no', 'nor', 'not', 'only', 'own', 'same', 'so', 'than', 'too', 'very', 's', 't', 'can', 'will', 'just', 'don', \"don't\", 'should', \"should've\", 'now', 'd', 'll', 'm', 'o', 're', 've', 'y', 'ain', 'aren', \"aren't\", 'couldn', \"couldn't\", 'didn', \"didn't\", 'doesn', \"doesn't\", 'hadn', \"hadn't\", 'hasn', \"hasn't\", 'haven', \"haven't\", 'isn', \"isn't\", 'ma', 'mightn', \"mightn't\", 'mustn', \"mustn't\", 'needn', \"needn't\", 'shan', \"shan't\", 'shouldn', \"shouldn't\", 'wasn', \"wasn't\", 'weren', \"weren't\", 'won', \"won't\", 'wouldn', \"wouldn't\"]\n"
          ]
        }
      ]
    },
    {
      "cell_type": "code",
      "source": [
        "# b) Use stemming text processing for the given sentence\n"
      ],
      "metadata": {
        "id": "Gfu1gD9ywzN2"
      },
      "execution_count": null,
      "outputs": []
    }
  ]
}