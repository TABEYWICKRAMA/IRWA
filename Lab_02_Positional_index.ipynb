{
  "nbformat": 4,
  "nbformat_minor": 0,
  "metadata": {
    "colab": {
      "provenance": [],
      "authorship_tag": "ABX9TyO7PZIdjncjTmHxxqjTTdX+",
      "include_colab_link": true
    },
    "kernelspec": {
      "name": "python3",
      "display_name": "Python 3"
    },
    "language_info": {
      "name": "python"
    }
  },
  "cells": [
    {
      "cell_type": "markdown",
      "metadata": {
        "id": "view-in-github",
        "colab_type": "text"
      },
      "source": [
        "<a href=\"https://colab.research.google.com/github/TABEYWICKRAMA/IRWA/blob/main/Lab_02_Positional_index.ipynb\" target=\"_parent\"><img src=\"https://colab.research.google.com/assets/colab-badge.svg\" alt=\"Open In Colab\"/></a>"
      ]
    },
    {
      "cell_type": "markdown",
      "source": [
        "# Lab 02 - Positional Index"
      ],
      "metadata": {
        "id": "Nf_UNjdL4HnM"
      }
    },
    {
      "cell_type": "code",
      "source": [
        "from google.colab import drive\n",
        "drive.mount('/content/drive')"
      ],
      "metadata": {
        "colab": {
          "base_uri": "https://localhost:8080/"
        },
        "id": "0tXypPDo4OyR",
        "outputId": "ea8a5744-b20a-4fae-8009-81bd8ffce258"
      },
      "execution_count": 57,
      "outputs": [
        {
          "output_type": "stream",
          "name": "stdout",
          "text": [
            "Drive already mounted at /content/drive; to attempt to forcibly remount, call drive.mount(\"/content/drive\", force_remount=True).\n"
          ]
        }
      ]
    },
    {
      "cell_type": "code",
      "source": [
        "%cd /content/drive/MyDrive/IRWA_LAB_02"
      ],
      "metadata": {
        "colab": {
          "base_uri": "https://localhost:8080/"
        },
        "id": "rJg_FZ9Y5oSw",
        "outputId": "e21b2189-d5ea-4e17-f529-27f7c6ca717e"
      },
      "execution_count": 58,
      "outputs": [
        {
          "output_type": "stream",
          "name": "stdout",
          "text": [
            "/content/drive/MyDrive/IRWA_LAB_02\n"
          ]
        }
      ]
    },
    {
      "cell_type": "code",
      "source": [
        "import os \n",
        "import re\n",
        "from nltk.tokenize import word_tokenize\n",
        "from nltk.corpus import stopwords\n",
        "from nltk.stem import PorterStemmer\n",
        "\n",
        "dictionary = dict()   #this is the main dictionary \n",
        "\n",
        "for doc_no in range(1,4):\n",
        "  with open(str(os.getcwd())+'/positional/doc_'+str(doc_no)+'.txt','r') as file:\n",
        "    s = file.read().replace('\\n','')[1:]\n",
        "    print('sentences: ',s) \n",
        "\n",
        "    #now we are going to do some preprocessing for our data\n",
        "\n",
        "    s = re.sub(' ', ' ', s)\n",
        "    s = re.sub(r\"won't\" , ' will not ', s)\n",
        "    s = re.sub(r\"can\\'t\", \"can not \", s)\n",
        "    s = re.sub(r'n\\t', \" not \", s)\n",
        "    s = re.sub(r\"\\'re \", \" are \", s)\n",
        "    s = re.sub(r\"\\s\", \" is \", s)\n",
        "    s = re.sub(r\"\\'d\", \" would \", s)\n",
        "    s = re.sub(r\"\\'ll\", \" will \", s)\n",
        "    s = re.sub(r\"\\t\", \" not \", s)\n",
        "    s = re.sub(r\"\\ve\", \" have \", s)\n",
        "    s = re.sub(r\"\\'m\", \" am \", s)\n",
        "    s = re.sub(r'[^\\w\\s]', '', s)\n",
        "\n",
        "    print(\"\\br\")\n",
        "    print('preprocessed_ sentences: ',s)\n",
        "\n",
        "\n",
        "\n",
        "\n",
        "\n"
      ],
      "metadata": {
        "colab": {
          "base_uri": "https://localhost:8080/"
        },
        "id": "nZ_5Yu_c5zsw",
        "outputId": "8d4b7dcd-1ac4-49fd-978f-86ddb82ca7f7"
      },
      "execution_count": 59,
      "outputs": [
        {
          "output_type": "stream",
          "name": "stdout",
          "text": [
            "sentences:  Remarks circus Announcing Candidacy for President in New York CityTrump: Wow. Whoa. That is some group of people. Thousands.So nice, thank you very much. That's really nice. Thank you. It's great to be at Trump Tower. It's great to be in a wonderful city, New York. And it's an honor to have everybody here. This is beyond anybody's expectations. There's been no crowd like this.And, I can tell, some of the candidates, they went in. They didn't know the air-conditioner didn't work. They sweated like dogs. [laughter]They didn't know the room was too big, because they didn't have anybody there. How are they going to beat ISIS? I don't think it's gonna happen. [applause]Our country is in serious trouble. We don't have victories anymore. We used to have victories, but we don't have them. When was the last time anybody saw us beating, let's say, China in a trade deal? They kill us. I beat China all the time. All the time. [applause]Audience Member: We want Trump. We want Trump.Trump: When did we beat Japan at anything? They send their cars over by the millions, and what do we do? When was the last time you saw a Chevrolet in Tokyo? It doesn't exist, folks. \n",
            "\br\n",
            "preprocessed_ sentences:  Remarks is circus is Announcing is Candidacy is for is President is in is New is York is CityTrump is Wow is Whoa is That is is is some is group is of is people is ThousandsSo is nice is thank is you is very is much is Thats is really is nice is Thank is you is Its is great is to is be is at is Trump is Tower is Its is great is to is be is in is a is wonderful is city is New is York is And is its is an is honor is to is have is everybody is here is This is is is beyond is anybodys is expectations is Theres is been is no is crowd is like is thisAnd is I is can is tell is some is of is the is candidates is they is went is in is They is didnt is know is the is airconditioner is didnt is work is They is sweated is like is dogs is laughterThey is didnt is know is the is room is was is too is big is because is they is didnt is have is anybody is there is How is are is they is going is to is beat is ISIS is I is dont is think is its is gonna is happen is applauseOur is country is is is in is serious is trouble is We is dont is have is victories is anymore is We is used is to is have is victories is but is we is dont is have is them is When is was is the is last is time is anybody is saw is us is beating is lets is say is China is in is a is trade is deal is They is kill is us is I is beat is China is all is the is time is All is the is time is applauseAudience is Member is We is want is Trump is We is want is TrumpTrump is When is did is we is beat is Japan is at is anything is They is send is their is cars is over is by is the is millions is and is what is do is we is do is When is was is the is last is time is you is saw is a is Chevrolet is in is Tokyo is It is doesnt is exist is folks is \n",
            "sentences:  emarks at the AIPAC Policy Conference in Washington, DC Good evening. Thank you very much. I speak to you today as a lifelong supporter and true friend of Israel. I'm a newcomer to politics, but not to backing the Jewish state.In 2001, weeks after the attacks on New York City and on Washington and frankly, the attacks on all of us, attacks that perpetrated and they were perpetrated by the Islamic fundamentalists, Mayor Rudy Giuliani visited Israel to show solidarity with terror victims. I sent my plane, because I backed the mission for Israel 100 percent.In spring of 2004, at the height of the violence in the Gaza Strip, I was the grand marshal of the 40th Salute to Israel parade, the largest single gathering in support of the Jewish state. It was a very dangerous time for Israel, and frankly, for anyone supporting Israel. Many people turned down this honor; I did not. I took the risk and I'm glad I did.But I didn't come here tonight to pander to you about Israel. That's what politicians do, all talk, no action, believe me. I came here to speak to you about where I stand on the future of American relations with our strategic ally, our unbreakable friendship and our cultural brother, the only democracy in the Middle East, the State of Israel.Thank you. My number one priority is to dismantle the disastrous deal with Iran. Thank you. I have been in business a long time, I know deal making and let me tell you, this deal is catastrophic for America, for Israel and for the whole of the Middle East.The problem here is fundamental. We've rewarded the world's leading state sponsor of terror with 150 billion dollars and we received absolutely nothing in return. I've studied this issue in great detail. I would say, actually, greater by far than anybody else, believe me, oh, believe me.And it's a bad deal. The biggest concern with the deal is not necessarily that Iran is going to violate it, because already as you know, it has. The bigger problem is that they can keep the terms and still get the bomb by simply running out the clock. \n",
            "\br\n",
            "preprocessed_ sentences:  emarks is at is the is AIPAC is Policy is Conference is in is Washington is DC is Good is evening is Thank is you is very is much is I is speak is to is you is today is as is a is lifelong is supporter is and is true is friend is of is Israel is I am  is a is newcomer is to is politics is but is not is to is backing is the is Jewish is stateIn is 2001 is weeks is after is the is attacks is on is New is York is City is and is on is Washington is and is frankly is the is attacks is on is all is of is us is attacks is that is perpetrated is and is they is were is perpetrated is by is the is Islamic is fundamentalists is Mayor is Rudy is Giuliani is visited is Israel is to is show is solidarity is with is terror is victims is I is sent is my is plane is because is I is backed is the is mission is for is Israel is 100 is percentIn is spring is of is 2004 is at is the is height is of is the is violence is in is the is Gaza is Strip is I is was is the is grand is marshal is of is the is 40th is Salute is to is Israel is parade is the is largest is single is gathering is in is support is of is the is Jewish is state is It is was is a is very is dangerous is time is for is Israel is and is frankly is for is anyone is supporting is Israel is Many is people is turned is down is this is honor is I is did is not is I is took is the is risk is and is I am  is glad is I is didBut is I is didnt is come is here is tonight is to is pander is to is you is about is Israel is Thats is what is politicians is do is all is talk is no is action is believe is me is I is came is here is to is speak is to is you is about is where is I is stand is on is the is future is of is American is relations is with is our is strategic is ally is our is unbreakable is friendship is and is our is cultural is brother is the is only is democracy is in is the is Middle is East is the is State is of is IsraelThank is you is My is number is one is priority is is is to is dismantle is the is disastrous is deal is with is Iran is Thank is you is I is have is been is in is business is a is long is time is I is know is deal is making is and is let is me is tell is you is this is deal is is is catastrophic is for is America is for is Israel is and is for is the is whole is of is the is Middle is EastThe is problem is here is is is fundamental is Weve is rewarded is the is worlds is leading is state is sponsor is of is terror is with is 150 is billion is dollars is and is we is received is absolutely is nothing is in is return is Ive is studied is this is issue is in is great is detail is I is would is say is actually is greater is by is far is than is anybody is else is believe is me is oh is believe is meAnd is its is a is bad is deal is The is biggest is concern is with is the is deal is is is not is necessarily is that is Iran is is is going is to is violate is it is because is already is as is you is know is it is has is The is bigger is problem is is is that is they is can is keep is the is terms is and is still is get is the is bomb is by is simply is running is out is the is clock is \n",
            "sentences:  Remarks on Foreign Policy at the National Press Club in Washington,Thank you for the opportunity to speak to you, and thank you to the Center for the National Interest for honoring me with this invitation. I would like to talk today about how to develop a new foreign policy direction for our country  one that replaces randomness with purpose, ideology with strategy, and chaos with peace. It is time to shake the rust off of America's foreign policy. It's time to invite new voices and new visions into the fold. The direction I will outline today will also return us to a timeless principle. My foreign policy will always put the interests of the American people, and American security, above all else. That will be the foundation of every decision that I will make. America First will be the major and overriding theme of my administration. But to chart our path forward, we must first briefly look back. We have a lot to be proud of. In the 1940s we saved the world. The Greatest Generation beat back the Nazis and the Japanese Imperialists. Then we saved the world again, this time from totalitarian Communism. The Cold War lasted for decades, but we won. Democrats and Republicans working together got Mr. Gorbachev to heed the words of President Reagan when he said: \"tear down this wall.\" History will not forget what we did. Unfortunately, after the Cold War, our foreign policy veered badly off course. We failed to develop a new vision for a new time. In fact, as time went on, our foreign policy began to make less and less sense. Logic was replaced with foolishness and arrogance, and this led to one foreign policy disaster after another. We went from mistakes in Iraq to Egypt to Libya, to President Obama's line in the sand in Syria. Each of these actions have helped to throw the region into chaos, and gave ISIS the space it needs to grow and prosper. It all began with the dangerous idea that we could make Western democracies out of countries that had no experience or interest in becoming a Western Democracy. We tore up what institutions they had and then were surprised at what we unleashed.\n",
            "\br\n",
            "preprocessed_ sentences:  Remarks is on is Foreign is Policy is at is the is National is Press is Club is in is WashingtonThank is you is for is the is opportunity is to is speak is to is you is and is thank is you is to is the is Center is for is the is National is Interest is for is honoring is me is with is this is invitation is I is would is like is to is talk is today is about is how is to is develop is a is new is foreign is policy is direction is for is our is country is  is one is that is replaces is randomness is with is purpose is ideology is with is strategy is and is chaos is with is peace is It is is is time is to is shake is the is rust is off is of is Americas is foreign is policy is Its is time is to is invite is new is voices is and is new is visions is into is the is fold is The is direction is I is will is outline is today is will is also is return is us is to is a is timeless is principle is My is foreign is policy is will is always is put is the is interests is of is the is American is people is and is American is security is above is all is else is That is will is be is the is foundation is of is every is decision is that is I is will is make is America is First is will is be is the is major is and is overriding is theme is of is my is administration is But is to is chart is our is path is forward is we is must is first is briefly is look is back is We is have is a is lot is to is be is proud is of is In is the is 1940s is we is saved is the is world is The is Greatest is Generation is beat is back is the is Nazis is and is the is Japanese is Imperialists is Then is we is saved is the is world is again is this is time is from is totalitarian is Communism is The is Cold is War is lasted is for is decades is but is we is won is Democrats is and is Republicans is working is together is got is Mr is Gorbachev is to is heed is the is words is of is President is Reagan is when is he is said is tear is down is this is wall is History is will is not is forget is what is we is did is Unfortunately is after is the is Cold is War is our is foreign is policy is veered is badly is off is course is We is failed is to is develop is a is new is vision is for is a is new is time is In is fact is as is time is went is on is our is foreign is policy is began is to is make is less is and is less is sense is Logic is was is replaced is with is foolishness is and is arrogance is and is this is led is to is one is foreign is policy is disaster is after is another is We is went is from is mistakes is in is Iraq is to is Egypt is to is Libya is to is President is Obamas is line is in is the is sand is in is Syria is Each is of is these is actions is have is helped is to is throw is the is region is into is chaos is and is gave is ISIS is the is space is it is needs is to is grow is and is prosper is It is all is began is with is the is dangerous is idea is that is we is could is make is Western is democracies is out is of is countries is that is had is no is experience is or is interest is in is becoming is a is Western is Democracy is We is tore is up is what is institutions is they is had is and is then is were is surprised is at is what is we is unleashed\n"
          ]
        }
      ]
    },
    {
      "cell_type": "markdown",
      "source": [
        "### Now we have to do tokenize them and remove stop words"
      ],
      "metadata": {
        "id": "gypaqsUoAm9L"
      }
    },
    {
      "cell_type": "code",
      "source": [
        "#tokenizing\n",
        "words=word_tokenize(str(s).lower())  \n",
        "print(words)\n",
        "\n",
        "# it is good to transform letters into lower when we are doing tokenization\n"
      ],
      "metadata": {
        "colab": {
          "base_uri": "https://localhost:8080/"
        },
        "id": "ikPkhadxAynA",
        "outputId": "f7afe8b2-af14-45ff-b338-1c700215acda"
      },
      "execution_count": 60,
      "outputs": [
        {
          "output_type": "stream",
          "name": "stdout",
          "text": [
            "['remarks', 'is', 'on', 'is', 'foreign', 'is', 'policy', 'is', 'at', 'is', 'the', 'is', 'national', 'is', 'press', 'is', 'club', 'is', 'in', 'is', 'washingtonthank', 'is', 'you', 'is', 'for', 'is', 'the', 'is', 'opportunity', 'is', 'to', 'is', 'speak', 'is', 'to', 'is', 'you', 'is', 'and', 'is', 'thank', 'is', 'you', 'is', 'to', 'is', 'the', 'is', 'center', 'is', 'for', 'is', 'the', 'is', 'national', 'is', 'interest', 'is', 'for', 'is', 'honoring', 'is', 'me', 'is', 'with', 'is', 'this', 'is', 'invitation', 'is', 'i', 'is', 'would', 'is', 'like', 'is', 'to', 'is', 'talk', 'is', 'today', 'is', 'about', 'is', 'how', 'is', 'to', 'is', 'develop', 'is', 'a', 'is', 'new', 'is', 'foreign', 'is', 'policy', 'is', 'direction', 'is', 'for', 'is', 'our', 'is', 'country', 'is', 'is', 'one', 'is', 'that', 'is', 'replaces', 'is', 'randomness', 'is', 'with', 'is', 'purpose', 'is', 'ideology', 'is', 'with', 'is', 'strategy', 'is', 'and', 'is', 'chaos', 'is', 'with', 'is', 'peace', 'is', 'it', 'is', 'is', 'is', 'time', 'is', 'to', 'is', 'shake', 'is', 'the', 'is', 'rust', 'is', 'off', 'is', 'of', 'is', 'americas', 'is', 'foreign', 'is', 'policy', 'is', 'its', 'is', 'time', 'is', 'to', 'is', 'invite', 'is', 'new', 'is', 'voices', 'is', 'and', 'is', 'new', 'is', 'visions', 'is', 'into', 'is', 'the', 'is', 'fold', 'is', 'the', 'is', 'direction', 'is', 'i', 'is', 'will', 'is', 'outline', 'is', 'today', 'is', 'will', 'is', 'also', 'is', 'return', 'is', 'us', 'is', 'to', 'is', 'a', 'is', 'timeless', 'is', 'principle', 'is', 'my', 'is', 'foreign', 'is', 'policy', 'is', 'will', 'is', 'always', 'is', 'put', 'is', 'the', 'is', 'interests', 'is', 'of', 'is', 'the', 'is', 'american', 'is', 'people', 'is', 'and', 'is', 'american', 'is', 'security', 'is', 'above', 'is', 'all', 'is', 'else', 'is', 'that', 'is', 'will', 'is', 'be', 'is', 'the', 'is', 'foundation', 'is', 'of', 'is', 'every', 'is', 'decision', 'is', 'that', 'is', 'i', 'is', 'will', 'is', 'make', 'is', 'america', 'is', 'first', 'is', 'will', 'is', 'be', 'is', 'the', 'is', 'major', 'is', 'and', 'is', 'overriding', 'is', 'theme', 'is', 'of', 'is', 'my', 'is', 'administration', 'is', 'but', 'is', 'to', 'is', 'chart', 'is', 'our', 'is', 'path', 'is', 'forward', 'is', 'we', 'is', 'must', 'is', 'first', 'is', 'briefly', 'is', 'look', 'is', 'back', 'is', 'we', 'is', 'have', 'is', 'a', 'is', 'lot', 'is', 'to', 'is', 'be', 'is', 'proud', 'is', 'of', 'is', 'in', 'is', 'the', 'is', '1940s', 'is', 'we', 'is', 'saved', 'is', 'the', 'is', 'world', 'is', 'the', 'is', 'greatest', 'is', 'generation', 'is', 'beat', 'is', 'back', 'is', 'the', 'is', 'nazis', 'is', 'and', 'is', 'the', 'is', 'japanese', 'is', 'imperialists', 'is', 'then', 'is', 'we', 'is', 'saved', 'is', 'the', 'is', 'world', 'is', 'again', 'is', 'this', 'is', 'time', 'is', 'from', 'is', 'totalitarian', 'is', 'communism', 'is', 'the', 'is', 'cold', 'is', 'war', 'is', 'lasted', 'is', 'for', 'is', 'decades', 'is', 'but', 'is', 'we', 'is', 'won', 'is', 'democrats', 'is', 'and', 'is', 'republicans', 'is', 'working', 'is', 'together', 'is', 'got', 'is', 'mr', 'is', 'gorbachev', 'is', 'to', 'is', 'heed', 'is', 'the', 'is', 'words', 'is', 'of', 'is', 'president', 'is', 'reagan', 'is', 'when', 'is', 'he', 'is', 'said', 'is', 'tear', 'is', 'down', 'is', 'this', 'is', 'wall', 'is', 'history', 'is', 'will', 'is', 'not', 'is', 'forget', 'is', 'what', 'is', 'we', 'is', 'did', 'is', 'unfortunately', 'is', 'after', 'is', 'the', 'is', 'cold', 'is', 'war', 'is', 'our', 'is', 'foreign', 'is', 'policy', 'is', 'veered', 'is', 'badly', 'is', 'off', 'is', 'course', 'is', 'we', 'is', 'failed', 'is', 'to', 'is', 'develop', 'is', 'a', 'is', 'new', 'is', 'vision', 'is', 'for', 'is', 'a', 'is', 'new', 'is', 'time', 'is', 'in', 'is', 'fact', 'is', 'as', 'is', 'time', 'is', 'went', 'is', 'on', 'is', 'our', 'is', 'foreign', 'is', 'policy', 'is', 'began', 'is', 'to', 'is', 'make', 'is', 'less', 'is', 'and', 'is', 'less', 'is', 'sense', 'is', 'logic', 'is', 'was', 'is', 'replaced', 'is', 'with', 'is', 'foolishness', 'is', 'and', 'is', 'arrogance', 'is', 'and', 'is', 'this', 'is', 'led', 'is', 'to', 'is', 'one', 'is', 'foreign', 'is', 'policy', 'is', 'disaster', 'is', 'after', 'is', 'another', 'is', 'we', 'is', 'went', 'is', 'from', 'is', 'mistakes', 'is', 'in', 'is', 'iraq', 'is', 'to', 'is', 'egypt', 'is', 'to', 'is', 'libya', 'is', 'to', 'is', 'president', 'is', 'obamas', 'is', 'line', 'is', 'in', 'is', 'the', 'is', 'sand', 'is', 'in', 'is', 'syria', 'is', 'each', 'is', 'of', 'is', 'these', 'is', 'actions', 'is', 'have', 'is', 'helped', 'is', 'to', 'is', 'throw', 'is', 'the', 'is', 'region', 'is', 'into', 'is', 'chaos', 'is', 'and', 'is', 'gave', 'is', 'isis', 'is', 'the', 'is', 'space', 'is', 'it', 'is', 'needs', 'is', 'to', 'is', 'grow', 'is', 'and', 'is', 'prosper', 'is', 'it', 'is', 'all', 'is', 'began', 'is', 'with', 'is', 'the', 'is', 'dangerous', 'is', 'idea', 'is', 'that', 'is', 'we', 'is', 'could', 'is', 'make', 'is', 'western', 'is', 'democracies', 'is', 'out', 'is', 'of', 'is', 'countries', 'is', 'that', 'is', 'had', 'is', 'no', 'is', 'experience', 'is', 'or', 'is', 'interest', 'is', 'in', 'is', 'becoming', 'is', 'a', 'is', 'western', 'is', 'democracy', 'is', 'we', 'is', 'tore', 'is', 'up', 'is', 'what', 'is', 'institutions', 'is', 'they', 'is', 'had', 'is', 'and', 'is', 'then', 'is', 'were', 'is', 'surprised', 'is', 'at', 'is', 'what', 'is', 'we', 'is', 'unleashed']\n"
          ]
        }
      ]
    },
    {
      "cell_type": "code",
      "source": [
        "import nltk\n",
        "nltk.download('punkt')"
      ],
      "metadata": {
        "colab": {
          "base_uri": "https://localhost:8080/"
        },
        "id": "x5e5pHsRK19K",
        "outputId": "ec03cc6e-f4a0-4b3d-dd2b-2419cca6eab9"
      },
      "execution_count": 61,
      "outputs": [
        {
          "output_type": "stream",
          "name": "stderr",
          "text": [
            "[nltk_data] Downloading package punkt to /root/nltk_data...\n",
            "[nltk_data]   Package punkt is already up-to-date!\n"
          ]
        },
        {
          "output_type": "execute_result",
          "data": {
            "text/plain": [
              "True"
            ]
          },
          "metadata": {},
          "execution_count": 61
        }
      ]
    },
    {
      "cell_type": "markdown",
      "source": [
        "### Way to remove stop words"
      ],
      "metadata": {
        "id": "KagAaslVLR2z"
      }
    },
    {
      "cell_type": "code",
      "source": [
        "#remove stop words\n",
        "stop_words=stopwords.words('english')\n",
        "new_sentence = [ word for word in words if word not in stop_words]\n",
        "print(new_sentence)"
      ],
      "metadata": {
        "colab": {
          "base_uri": "https://localhost:8080/"
        },
        "id": "ySYLUy7oLLEy",
        "outputId": "f0281407-6d87-403a-c2be-9a25885abc7f"
      },
      "execution_count": 62,
      "outputs": [
        {
          "output_type": "stream",
          "name": "stdout",
          "text": [
            "['remarks', 'foreign', 'policy', 'national', 'press', 'club', 'washingtonthank', 'opportunity', 'speak', 'thank', 'center', 'national', 'interest', 'honoring', 'invitation', 'would', 'like', 'talk', 'today', 'develop', 'new', 'foreign', 'policy', 'direction', 'country', 'one', 'replaces', 'randomness', 'purpose', 'ideology', 'strategy', 'chaos', 'peace', 'time', 'shake', 'rust', 'americas', 'foreign', 'policy', 'time', 'invite', 'new', 'voices', 'new', 'visions', 'fold', 'direction', 'outline', 'today', 'also', 'return', 'us', 'timeless', 'principle', 'foreign', 'policy', 'always', 'put', 'interests', 'american', 'people', 'american', 'security', 'else', 'foundation', 'every', 'decision', 'make', 'america', 'first', 'major', 'overriding', 'theme', 'administration', 'chart', 'path', 'forward', 'must', 'first', 'briefly', 'look', 'back', 'lot', 'proud', '1940s', 'saved', 'world', 'greatest', 'generation', 'beat', 'back', 'nazis', 'japanese', 'imperialists', 'saved', 'world', 'time', 'totalitarian', 'communism', 'cold', 'war', 'lasted', 'decades', 'democrats', 'republicans', 'working', 'together', 'got', 'mr', 'gorbachev', 'heed', 'words', 'president', 'reagan', 'said', 'tear', 'wall', 'history', 'forget', 'unfortunately', 'cold', 'war', 'foreign', 'policy', 'veered', 'badly', 'course', 'failed', 'develop', 'new', 'vision', 'new', 'time', 'fact', 'time', 'went', 'foreign', 'policy', 'began', 'make', 'less', 'less', 'sense', 'logic', 'replaced', 'foolishness', 'arrogance', 'led', 'one', 'foreign', 'policy', 'disaster', 'another', 'went', 'mistakes', 'iraq', 'egypt', 'libya', 'president', 'obamas', 'line', 'sand', 'syria', 'actions', 'helped', 'throw', 'region', 'chaos', 'gave', 'isis', 'space', 'needs', 'grow', 'prosper', 'began', 'dangerous', 'idea', 'could', 'make', 'western', 'democracies', 'countries', 'experience', 'interest', 'becoming', 'western', 'democracy', 'tore', 'institutions', 'surprised', 'unleashed']\n"
          ]
        }
      ]
    },
    {
      "cell_type": "code",
      "source": [
        "import nltk\n",
        "nltk.download('stopwords')"
      ],
      "metadata": {
        "colab": {
          "base_uri": "https://localhost:8080/"
        },
        "id": "PYN1aG9-NQBJ",
        "outputId": "941317e2-38bd-4f39-807a-331f5fd0b935"
      },
      "execution_count": 63,
      "outputs": [
        {
          "output_type": "stream",
          "name": "stderr",
          "text": [
            "[nltk_data] Downloading package stopwords to /root/nltk_data...\n",
            "[nltk_data]   Package stopwords is already up-to-date!\n"
          ]
        },
        {
          "output_type": "execute_result",
          "data": {
            "text/plain": [
              "True"
            ]
          },
          "metadata": {},
          "execution_count": 63
        }
      ]
    },
    {
      "cell_type": "markdown",
      "source": [
        "## Stemming all the sentences one by one"
      ],
      "metadata": {
        "id": "n18EnVBaPRix"
      }
    },
    {
      "cell_type": "code",
      "source": [
        "ps = PorterStemmer()\n",
        "stemmed=[]\n",
        "for i in new_sentence:\n",
        "  stemmed.append(ps.stem(i))\n",
        "print(stemmed)"
      ],
      "metadata": {
        "colab": {
          "base_uri": "https://localhost:8080/"
        },
        "id": "0FH2deaKN6oi",
        "outputId": "bc09c978-0efd-4474-c128-c8f359cfb124"
      },
      "execution_count": 64,
      "outputs": [
        {
          "output_type": "stream",
          "name": "stdout",
          "text": [
            "['remark', 'foreign', 'polici', 'nation', 'press', 'club', 'washingtonthank', 'opportun', 'speak', 'thank', 'center', 'nation', 'interest', 'honor', 'invit', 'would', 'like', 'talk', 'today', 'develop', 'new', 'foreign', 'polici', 'direct', 'countri', 'one', 'replac', 'random', 'purpos', 'ideolog', 'strategi', 'chao', 'peac', 'time', 'shake', 'rust', 'america', 'foreign', 'polici', 'time', 'invit', 'new', 'voic', 'new', 'vision', 'fold', 'direct', 'outlin', 'today', 'also', 'return', 'us', 'timeless', 'principl', 'foreign', 'polici', 'alway', 'put', 'interest', 'american', 'peopl', 'american', 'secur', 'els', 'foundat', 'everi', 'decis', 'make', 'america', 'first', 'major', 'overrid', 'theme', 'administr', 'chart', 'path', 'forward', 'must', 'first', 'briefli', 'look', 'back', 'lot', 'proud', '1940', 'save', 'world', 'greatest', 'gener', 'beat', 'back', 'nazi', 'japanes', 'imperialist', 'save', 'world', 'time', 'totalitarian', 'commun', 'cold', 'war', 'last', 'decad', 'democrat', 'republican', 'work', 'togeth', 'got', 'mr', 'gorbachev', 'heed', 'word', 'presid', 'reagan', 'said', 'tear', 'wall', 'histori', 'forget', 'unfortun', 'cold', 'war', 'foreign', 'polici', 'veer', 'badli', 'cours', 'fail', 'develop', 'new', 'vision', 'new', 'time', 'fact', 'time', 'went', 'foreign', 'polici', 'began', 'make', 'less', 'less', 'sens', 'logic', 'replac', 'foolish', 'arrog', 'led', 'one', 'foreign', 'polici', 'disast', 'anoth', 'went', 'mistak', 'iraq', 'egypt', 'libya', 'presid', 'obama', 'line', 'sand', 'syria', 'action', 'help', 'throw', 'region', 'chao', 'gave', 'isi', 'space', 'need', 'grow', 'prosper', 'began', 'danger', 'idea', 'could', 'make', 'western', 'democraci', 'countri', 'experi', 'interest', 'becom', 'western', 'democraci', 'tore', 'institut', 'surpris', 'unleash']\n"
          ]
        }
      ]
    },
    {
      "cell_type": "markdown",
      "source": [
        "# begining of Positional Index"
      ],
      "metadata": {
        "id": "J1QqLxxJP_dY"
      }
    },
    {
      "cell_type": "markdown",
      "source": [
        "# Above all the things are describe step by step but below code is the whole code by combining above all the steps\n"
      ],
      "metadata": {
        "id": "CDW5armaTOf5"
      }
    },
    {
      "cell_type": "code",
      "source": [
        "\n",
        "dictionary = dict()   #this is the main dictionary \n",
        "\n",
        "\n",
        "for doc_no in range(1,4):\n",
        "  with open(str(os.getcwd())+'/positional/doc_'+str(doc_no)+'.txt','r') as file:\n",
        "    s = file.read().replace('\\n','')[1:]\n",
        "    # print('sentences: ',s) \n",
        "\n",
        "    #now we are going to do some preprocessing for our data\n",
        "\n",
        "    s = re.sub(' ', ' ', s)\n",
        "    s = re.sub(r\"won't\" , ' will not ', s)\n",
        "    s = re.sub(r\"can\\'t\", \"can not \", s)\n",
        "    s = re.sub(r'n\\t', \" not \", s)\n",
        "    s = re.sub(r\"\\'re \", \" are \", s)\n",
        "    s = re.sub(r\"\\s\", \" is \", s)\n",
        "    s = re.sub(r\"\\'d\", \" would \", s)\n",
        "    s = re.sub(r\"\\'ll\", \" will \", s)\n",
        "    s = re.sub(r\"\\t\", \" not \", s)\n",
        "    s = re.sub(r\"\\ve\", \" have \", s)\n",
        "    s = re.sub(r\"\\'m\", \" am \", s)\n",
        "    s = re.sub(r'[^\\w\\s]', '', s)\n",
        "\n",
        "    print(\"\\br\")\n",
        "    # print('preprocessed_ sentences: ',s)\n",
        "\n",
        "    words=word_tokenize(str(s).lower())  \n",
        "    # print(words)\n",
        "\n",
        "    stop_words=stopwords.words('english')\n",
        "    new_sentence = [ word for word in words if word not in stop_words]\n",
        "    # print(new_sentence)\n",
        "\n",
        "    ps = PorterStemmer()\n",
        "    stemmed=[]\n",
        "    for i in new_sentence:\n",
        "      stemmed.append(ps.stem(i))\n",
        "    # print(stemmed)\n",
        "\n",
        "    temp_dict=dict()    #create a tempory dictionary to save positions of sentences\n",
        "\n",
        "    a=0\n",
        "    for x in stemmed:\n",
        "      key=x\n",
        "      temp_dict.setdefault(key,[])\n",
        "      temp_dict[key].append(a)\n",
        "      a += 1\n",
        "\n",
        "    for x in temp_dict:\n",
        "      if dictionary.get(x):\n",
        "        dictionary[x][doc_no]=temp_dict.get(x)\n",
        "      else:\n",
        "        key=x\n",
        "        dictionary.setdefault(key,[])\n",
        "        dictionary[key]={}\n",
        "        dictionary[x][doc_no]=temp_dict.get(x)\n",
        "print(dictionary)"
      ],
      "metadata": {
        "colab": {
          "base_uri": "https://localhost:8080/"
        },
        "id": "fmF1ThZbQ7CI",
        "outputId": "8f6b3aad-8b95-444c-b941-7ea425f6ff26"
      },
      "execution_count": 66,
      "outputs": [
        {
          "output_type": "stream",
          "name": "stdout",
          "text": [
            "\br\n",
            "\br\n",
            "\br\n",
            "{'remark': {1: [0], 3: [0]}, 'circu': {1: [1]}, 'announc': {1: [2]}, 'candidaci': {1: [3]}, 'presid': {1: [4], 3: [112, 158]}, 'new': {1: [5, 26], 2: [25], 3: [20, 41, 43, 129, 131]}, 'york': {1: [6, 27], 2: [26]}, 'citytrump': {1: [7]}, 'wow': {1: [8]}, 'whoa': {1: [9]}, 'group': {1: [10]}, 'peopl': {1: [11], 2: [79], 3: [60]}, 'thousandsso': {1: [12]}, 'nice': {1: [13, 18]}, 'thank': {1: [14, 19], 2: [8, 120], 3: [9]}, 'much': {1: [15], 2: [9]}, 'that': {1: [16], 2: [91]}, 'realli': {1: [17]}, 'great': {1: [20, 23], 2: [155]}, 'trump': {1: [21, 93]}, 'tower': {1: [22]}, 'wonder': {1: [24]}, 'citi': {1: [25], 2: [27]}, 'honor': {1: [28], 2: [81], 3: [13]}, 'everybodi': {1: [29]}, 'beyond': {1: [30]}, 'anybodi': {1: [31, 54, 75], 2: [162]}, 'expect': {1: [32]}, 'there': {1: [33]}, 'crowd': {1: [34]}, 'like': {1: [35, 46], 3: [16]}, 'thisand': {1: [36]}, 'tell': {1: [37], 2: [128]}, 'candid': {1: [38]}, 'went': {1: [39], 3: [135, 153]}, 'didnt': {1: [40, 43, 49, 53], 2: [86]}, 'know': {1: [41, 50], 2: [124, 178]}, 'aircondition': {1: [42]}, 'work': {1: [44], 3: [105]}, 'sweat': {1: [45]}, 'dog': {1: [47]}, 'laughterthey': {1: [48]}, 'room': {1: [51]}, 'big': {1: [52]}, 'go': {1: [55], 2: [175]}, 'beat': {1: [56, 78, 86, 96], 3: [89]}, 'isi': {1: [57], 3: [169]}, 'dont': {1: [58, 67, 72]}, 'think': {1: [59]}, 'gon': {1: [60]}, 'na': {1: [61]}, 'happen': {1: [62]}, 'applauseour': {1: [63]}, 'countri': {1: [64], 3: [24, 181]}, 'seriou': {1: [65]}, 'troubl': {1: [66]}, 'victori': {1: [68, 71]}, 'anymor': {1: [69]}, 'use': {1: [70]}, 'last': {1: [73, 102], 3: [101]}, 'time': {1: [74, 88, 89, 103], 2: [72, 123], 3: [33, 39, 96, 132, 134]}, 'saw': {1: [76, 104]}, 'us': {1: [77, 85], 2: [31], 3: [51]}, 'let': {1: [79], 2: [127]}, 'say': {1: [80], 2: [158]}, 'china': {1: [81, 87]}, 'trade': {1: [82]}, 'deal': {1: [83], 2: [118, 125, 129, 169, 172]}, 'kill': {1: [84]}, 'applauseaudi': {1: [90]}, 'member': {1: [91]}, 'want': {1: [92, 94]}, 'trumptrump': {1: [95]}, 'japan': {1: [97]}, 'anyth': {1: [98]}, 'send': {1: [99]}, 'car': {1: [100]}, 'million': {1: [101]}, 'chevrolet': {1: [105]}, 'tokyo': {1: [106]}, 'doesnt': {1: [107]}, 'exist': {1: [108]}, 'folk': {1: [109]}, 'emark': {2: [0]}, 'aipac': {2: [1]}, 'polici': {2: [2], 3: [2, 22, 38, 55, 123, 137, 150]}, 'confer': {2: [3]}, 'washington': {2: [4, 28]}, 'dc': {2: [5]}, 'good': {2: [6]}, 'even': {2: [7]}, 'speak': {2: [10, 97], 3: [8]}, 'today': {2: [11], 3: [18, 48]}, 'lifelong': {2: [12]}, 'support': {2: [13, 68, 76]}, 'true': {2: [14]}, 'friend': {2: [15]}, 'israel': {2: [16, 41, 50, 63, 73, 77, 90, 132]}, 'newcom': {2: [17]}, 'polit': {2: [18]}, 'back': {2: [19, 48], 3: [81, 90]}, 'jewish': {2: [20, 69]}, 'statein': {2: [21]}, '2001': {2: [22]}, 'week': {2: [23]}, 'attack': {2: [24, 30, 32]}, 'frankli': {2: [29, 74]}, 'perpetr': {2: [33, 34]}, 'islam': {2: [35]}, 'fundamentalist': {2: [36]}, 'mayor': {2: [37]}, 'rudi': {2: [38]}, 'giuliani': {2: [39]}, 'visit': {2: [40]}, 'show': {2: [42]}, 'solidar': {2: [43]}, 'terror': {2: [44, 144]}, 'victim': {2: [45]}, 'sent': {2: [46]}, 'plane': {2: [47]}, 'mission': {2: [49]}, '100': {2: [51]}, 'percentin': {2: [52]}, 'spring': {2: [53]}, '2004': {2: [54]}, 'height': {2: [55]}, 'violenc': {2: [56]}, 'gaza': {2: [57]}, 'strip': {2: [58]}, 'grand': {2: [59]}, 'marshal': {2: [60]}, '40th': {2: [61]}, 'salut': {2: [62]}, 'parad': {2: [64]}, 'largest': {2: [65]}, 'singl': {2: [66]}, 'gather': {2: [67]}, 'state': {2: [70, 111, 142]}, 'danger': {2: [71], 3: [175]}, 'anyon': {2: [75]}, 'mani': {2: [78]}, 'turn': {2: [80]}, 'took': {2: [82]}, 'risk': {2: [83]}, 'glad': {2: [84]}, 'didbut': {2: [85]}, 'come': {2: [87]}, 'tonight': {2: [88]}, 'pander': {2: [89]}, 'politician': {2: [92]}, 'talk': {2: [93], 3: [17]}, 'action': {2: [94], 3: [163]}, 'believ': {2: [95, 164, 166]}, 'came': {2: [96]}, 'stand': {2: [98]}, 'futur': {2: [99]}, 'american': {2: [100], 3: [59, 61]}, 'relat': {2: [101]}, 'strateg': {2: [102]}, 'alli': {2: [103]}, 'unbreak': {2: [104]}, 'friendship': {2: [105]}, 'cultur': {2: [106]}, 'brother': {2: [107]}, 'democraci': {2: [108], 3: [180, 186]}, 'middl': {2: [109, 134]}, 'east': {2: [110]}, 'israelthank': {2: [112]}, 'number': {2: [113]}, 'one': {2: [114], 3: [25, 148]}, 'prioriti': {2: [115]}, 'dismantl': {2: [116]}, 'disastr': {2: [117]}, 'iran': {2: [119, 174]}, 'busi': {2: [121]}, 'long': {2: [122]}, 'make': {2: [126], 3: [67, 139, 178]}, 'catastroph': {2: [130]}, 'america': {2: [131], 3: [36, 68]}, 'whole': {2: [133]}, 'eastth': {2: [135]}, 'problem': {2: [136, 180]}, 'fundament': {2: [137]}, 'weve': {2: [138]}, 'reward': {2: [139]}, 'world': {2: [140], 3: [86, 95]}, 'lead': {2: [141]}, 'sponsor': {2: [143]}, '150': {2: [145]}, 'billion': {2: [146]}, 'dollar': {2: [147]}, 'receiv': {2: [148]}, 'absolut': {2: [149]}, 'noth': {2: [150]}, 'return': {2: [151], 3: [50]}, 'ive': {2: [152]}, 'studi': {2: [153]}, 'issu': {2: [154]}, 'detail': {2: [156]}, 'would': {2: [157], 3: [15]}, 'actual': {2: [159]}, 'greater': {2: [160]}, 'far': {2: [161]}, 'els': {2: [163], 3: [63]}, 'oh': {2: [165]}, 'meand': {2: [167]}, 'bad': {2: [168]}, 'biggest': {2: [170]}, 'concern': {2: [171]}, 'necessarili': {2: [173]}, 'violat': {2: [176]}, 'alreadi': {2: [177]}, 'bigger': {2: [179]}, 'keep': {2: [181]}, 'term': {2: [182]}, 'still': {2: [183]}, 'get': {2: [184]}, 'bomb': {2: [185]}, 'simpli': {2: [186]}, 'run': {2: [187]}, 'clock': {2: [188]}, 'foreign': {3: [1, 21, 37, 54, 122, 136, 149]}, 'nation': {3: [3, 11]}, 'press': {3: [4]}, 'club': {3: [5]}, 'washingtonthank': {3: [6]}, 'opportun': {3: [7]}, 'center': {3: [10]}, 'interest': {3: [12, 58, 183]}, 'invit': {3: [14, 40]}, 'develop': {3: [19, 128]}, 'direct': {3: [23, 46]}, 'replac': {3: [26, 144]}, 'random': {3: [27]}, 'purpos': {3: [28]}, 'ideolog': {3: [29]}, 'strategi': {3: [30]}, 'chao': {3: [31, 167]}, 'peac': {3: [32]}, 'shake': {3: [34]}, 'rust': {3: [35]}, 'voic': {3: [42]}, 'vision': {3: [44, 130]}, 'fold': {3: [45]}, 'outlin': {3: [47]}, 'also': {3: [49]}, 'timeless': {3: [52]}, 'principl': {3: [53]}, 'alway': {3: [56]}, 'put': {3: [57]}, 'secur': {3: [62]}, 'foundat': {3: [64]}, 'everi': {3: [65]}, 'decis': {3: [66]}, 'first': {3: [69, 78]}, 'major': {3: [70]}, 'overrid': {3: [71]}, 'theme': {3: [72]}, 'administr': {3: [73]}, 'chart': {3: [74]}, 'path': {3: [75]}, 'forward': {3: [76]}, 'must': {3: [77]}, 'briefli': {3: [79]}, 'look': {3: [80]}, 'lot': {3: [82]}, 'proud': {3: [83]}, '1940': {3: [84]}, 'save': {3: [85, 94]}, 'greatest': {3: [87]}, 'gener': {3: [88]}, 'nazi': {3: [91]}, 'japanes': {3: [92]}, 'imperialist': {3: [93]}, 'totalitarian': {3: [97]}, 'commun': {3: [98]}, 'cold': {3: [99, 120]}, 'war': {3: [100, 121]}, 'decad': {3: [102]}, 'democrat': {3: [103]}, 'republican': {3: [104]}, 'togeth': {3: [106]}, 'got': {3: [107]}, 'mr': {3: [108]}, 'gorbachev': {3: [109]}, 'heed': {3: [110]}, 'word': {3: [111]}, 'reagan': {3: [113]}, 'said': {3: [114]}, 'tear': {3: [115]}, 'wall': {3: [116]}, 'histori': {3: [117]}, 'forget': {3: [118]}, 'unfortun': {3: [119]}, 'veer': {3: [124]}, 'badli': {3: [125]}, 'cours': {3: [126]}, 'fail': {3: [127]}, 'fact': {3: [133]}, 'began': {3: [138, 174]}, 'less': {3: [140, 141]}, 'sens': {3: [142]}, 'logic': {3: [143]}, 'foolish': {3: [145]}, 'arrog': {3: [146]}, 'led': {3: [147]}, 'disast': {3: [151]}, 'anoth': {3: [152]}, 'mistak': {3: [154]}, 'iraq': {3: [155]}, 'egypt': {3: [156]}, 'libya': {3: [157]}, 'obama': {3: [159]}, 'line': {3: [160]}, 'sand': {3: [161]}, 'syria': {3: [162]}, 'help': {3: [164]}, 'throw': {3: [165]}, 'region': {3: [166]}, 'gave': {3: [168]}, 'space': {3: [170]}, 'need': {3: [171]}, 'grow': {3: [172]}, 'prosper': {3: [173]}, 'idea': {3: [176]}, 'could': {3: [177]}, 'western': {3: [179, 185]}, 'experi': {3: [182]}, 'becom': {3: [184]}, 'tore': {3: [187]}, 'institut': {3: [188]}, 'surpris': {3: [189]}, 'unleash': {3: [190]}}\n"
          ]
        }
      ]
    }
  ]
}