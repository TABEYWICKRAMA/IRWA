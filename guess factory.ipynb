{
  "nbformat": 4,
  "nbformat_minor": 0,
  "metadata": {
    "colab": {
      "provenance": []
    },
    "kernelspec": {
      "name": "python3",
      "display_name": "Python 3"
    },
    "language_info": {
      "name": "python"
    }
  },
  "cells": [
    {
      "cell_type": "code",
      "execution_count": 60,
      "metadata": {
        "colab": {
          "base_uri": "https://localhost:8080/"
        },
        "id": "IA5U1YHGkPhJ",
        "outputId": "fd70aae1-8a68-4dc6-bb5b-99d850e3bc05"
      },
      "outputs": [
        {
          "output_type": "stream",
          "name": "stdout",
          "text": [
            "Looking in indexes: https://pypi.org/simple, https://us-python.pkg.dev/colab-wheels/public/simple/\n",
            "Requirement already satisfied: BeautifulSoup4 in /usr/local/lib/python3.7/dist-packages (4.6.3)\n",
            "Looking in indexes: https://pypi.org/simple, https://us-python.pkg.dev/colab-wheels/public/simple/\n",
            "Requirement already satisfied: lxml in /usr/local/lib/python3.7/dist-packages (4.9.1)\n",
            "Looking in indexes: https://pypi.org/simple, https://us-python.pkg.dev/colab-wheels/public/simple/\n",
            "Requirement already satisfied: cloudscraper in /usr/local/lib/python3.7/dist-packages (1.2.64)\n",
            "Requirement already satisfied: pyparsing>=2.4.7 in /usr/local/lib/python3.7/dist-packages (from cloudscraper) (3.0.9)\n",
            "Requirement already satisfied: requests>=2.9.2 in /usr/local/lib/python3.7/dist-packages (from cloudscraper) (2.23.0)\n",
            "Requirement already satisfied: requests-toolbelt>=0.9.1 in /usr/local/lib/python3.7/dist-packages (from cloudscraper) (0.10.1)\n",
            "Requirement already satisfied: certifi>=2017.4.17 in /usr/local/lib/python3.7/dist-packages (from requests>=2.9.2->cloudscraper) (2022.9.24)\n",
            "Requirement already satisfied: chardet<4,>=3.0.2 in /usr/local/lib/python3.7/dist-packages (from requests>=2.9.2->cloudscraper) (3.0.4)\n",
            "Requirement already satisfied: idna<3,>=2.5 in /usr/local/lib/python3.7/dist-packages (from requests>=2.9.2->cloudscraper) (2.10)\n",
            "Requirement already satisfied: urllib3!=1.25.0,!=1.25.1,<1.26,>=1.21.1 in /usr/local/lib/python3.7/dist-packages (from requests>=2.9.2->cloudscraper) (1.24.3)\n"
          ]
        }
      ],
      "source": [
        "#import the library\n",
        "!pip install BeautifulSoup4\n",
        "!pip install lxml\n",
        "!pip install cloudscraper\n",
        "\n",
        "from bs4 import BeautifulSoup\n",
        "import requests\n",
        "import pandas as pd\n",
        "import cloudscraper"
      ]
    },
    {
      "cell_type": "code",
      "source": [
        "# Create excel workbook\n",
        "data = pd.DataFrame(columns=['Product_Name', 'Old_Price', 'New_Price'])\n",
        "data"
      ],
      "metadata": {
        "colab": {
          "base_uri": "https://localhost:8080/",
          "height": 49
        },
        "id": "uZLXqPFekdQD",
        "outputId": "66089661-09bf-404b-cc81-517f7c8fea55"
      },
      "execution_count": 61,
      "outputs": [
        {
          "output_type": "execute_result",
          "data": {
            "text/plain": [
              "Empty DataFrame\n",
              "Columns: [Product_Name, Old_Price, New_Price]\n",
              "Index: []"
            ],
            "text/html": [
              "\n",
              "  <div id=\"df-05068da8-19ec-4598-bb65-760d805ded67\">\n",
              "    <div class=\"colab-df-container\">\n",
              "      <div>\n",
              "<style scoped>\n",
              "    .dataframe tbody tr th:only-of-type {\n",
              "        vertical-align: middle;\n",
              "    }\n",
              "\n",
              "    .dataframe tbody tr th {\n",
              "        vertical-align: top;\n",
              "    }\n",
              "\n",
              "    .dataframe thead th {\n",
              "        text-align: right;\n",
              "    }\n",
              "</style>\n",
              "<table border=\"1\" class=\"dataframe\">\n",
              "  <thead>\n",
              "    <tr style=\"text-align: right;\">\n",
              "      <th></th>\n",
              "      <th>Product_Name</th>\n",
              "      <th>Old_Price</th>\n",
              "      <th>New_Price</th>\n",
              "    </tr>\n",
              "  </thead>\n",
              "  <tbody>\n",
              "  </tbody>\n",
              "</table>\n",
              "</div>\n",
              "      <button class=\"colab-df-convert\" onclick=\"convertToInteractive('df-05068da8-19ec-4598-bb65-760d805ded67')\"\n",
              "              title=\"Convert this dataframe to an interactive table.\"\n",
              "              style=\"display:none;\">\n",
              "        \n",
              "  <svg xmlns=\"http://www.w3.org/2000/svg\" height=\"24px\"viewBox=\"0 0 24 24\"\n",
              "       width=\"24px\">\n",
              "    <path d=\"M0 0h24v24H0V0z\" fill=\"none\"/>\n",
              "    <path d=\"M18.56 5.44l.94 2.06.94-2.06 2.06-.94-2.06-.94-.94-2.06-.94 2.06-2.06.94zm-11 1L8.5 8.5l.94-2.06 2.06-.94-2.06-.94L8.5 2.5l-.94 2.06-2.06.94zm10 10l.94 2.06.94-2.06 2.06-.94-2.06-.94-.94-2.06-.94 2.06-2.06.94z\"/><path d=\"M17.41 7.96l-1.37-1.37c-.4-.4-.92-.59-1.43-.59-.52 0-1.04.2-1.43.59L10.3 9.45l-7.72 7.72c-.78.78-.78 2.05 0 2.83L4 21.41c.39.39.9.59 1.41.59.51 0 1.02-.2 1.41-.59l7.78-7.78 2.81-2.81c.8-.78.8-2.07 0-2.86zM5.41 20L4 18.59l7.72-7.72 1.47 1.35L5.41 20z\"/>\n",
              "  </svg>\n",
              "      </button>\n",
              "      \n",
              "  <style>\n",
              "    .colab-df-container {\n",
              "      display:flex;\n",
              "      flex-wrap:wrap;\n",
              "      gap: 12px;\n",
              "    }\n",
              "\n",
              "    .colab-df-convert {\n",
              "      background-color: #E8F0FE;\n",
              "      border: none;\n",
              "      border-radius: 50%;\n",
              "      cursor: pointer;\n",
              "      display: none;\n",
              "      fill: #1967D2;\n",
              "      height: 32px;\n",
              "      padding: 0 0 0 0;\n",
              "      width: 32px;\n",
              "    }\n",
              "\n",
              "    .colab-df-convert:hover {\n",
              "      background-color: #E2EBFA;\n",
              "      box-shadow: 0px 1px 2px rgba(60, 64, 67, 0.3), 0px 1px 3px 1px rgba(60, 64, 67, 0.15);\n",
              "      fill: #174EA6;\n",
              "    }\n",
              "\n",
              "    [theme=dark] .colab-df-convert {\n",
              "      background-color: #3B4455;\n",
              "      fill: #D2E3FC;\n",
              "    }\n",
              "\n",
              "    [theme=dark] .colab-df-convert:hover {\n",
              "      background-color: #434B5C;\n",
              "      box-shadow: 0px 1px 3px 1px rgba(0, 0, 0, 0.15);\n",
              "      filter: drop-shadow(0px 1px 2px rgba(0, 0, 0, 0.3));\n",
              "      fill: #FFFFFF;\n",
              "    }\n",
              "  </style>\n",
              "\n",
              "      <script>\n",
              "        const buttonEl =\n",
              "          document.querySelector('#df-05068da8-19ec-4598-bb65-760d805ded67 button.colab-df-convert');\n",
              "        buttonEl.style.display =\n",
              "          google.colab.kernel.accessAllowed ? 'block' : 'none';\n",
              "\n",
              "        async function convertToInteractive(key) {\n",
              "          const element = document.querySelector('#df-05068da8-19ec-4598-bb65-760d805ded67');\n",
              "          const dataTable =\n",
              "            await google.colab.kernel.invokeFunction('convertToInteractive',\n",
              "                                                     [key], {});\n",
              "          if (!dataTable) return;\n",
              "\n",
              "          const docLinkHtml = 'Like what you see? Visit the ' +\n",
              "            '<a target=\"_blank\" href=https://colab.research.google.com/notebooks/data_table.ipynb>data table notebook</a>'\n",
              "            + ' to learn more about interactive tables.';\n",
              "          element.innerHTML = '';\n",
              "          dataTable['output_type'] = 'display_data';\n",
              "          await google.colab.output.renderOutput(dataTable, element);\n",
              "          const docLink = document.createElement('div');\n",
              "          docLink.innerHTML = docLinkHtml;\n",
              "          element.appendChild(docLink);\n",
              "        }\n",
              "      </script>\n",
              "    </div>\n",
              "  </div>\n",
              "  "
            ]
          },
          "metadata": {},
          "execution_count": 61
        }
      ]
    },
    {
      "cell_type": "code",
      "source": [
        "scraper = cloudscraper.create_scraper(browser='chrome')\n",
        "\n",
        "URL = 'https://www.guessfactory.com/us/en/sale/women/view-all'\n",
        "page = scraper.get(URL)\n",
        "\n",
        "soup = BeautifulSoup(page.content, 'lxml')\n",
        "\n",
        "products = soup.find_all('div', class_='product-grid__column')\n",
        "\n",
        "# looping\n",
        "for product in products:\n",
        "  \n",
        "  #product_name \n",
        "  product_name = product.find('div', class_='product-tile__tile-body').h3.a.text.strip()\n",
        "  #product_newprice\n",
        "  new_price = product.find('span', class_='price__red-color text-nowrap').text.split()[-1].strip()\n",
        "  #product_number\n",
        "  # product_number = product.find('div', class_='product-tile__tile-body')['id'].strip()\n",
        "  #product_oldprice\n",
        "  old_price = product.find('span', class_='price__strike-through').text.strip()\n",
        "  \n",
        "\n",
        "  data_dict = {\n",
        "      'Product_Name': product_name,\n",
        "      'old_price': old_price,\n",
        "      'New_Price': new_price\n",
        "\n",
        "      # 'product_number':product_number\n",
        "      }\n",
        "\n",
        "\n",
        "  data = data.append(pd.DataFrame(data=data_dict, index=[0]), ignore_index=True)\n",
        "  print(f'{product_name} | {old_price} | {new_price}')\n",
        "\n"
      ],
      "metadata": {
        "colab": {
          "base_uri": "https://localhost:8080/"
        },
        "id": "pFfyWp7Kkrmv",
        "outputId": "7bf85256-8571-4692-e8e2-39904fcdfaa5"
      },
      "execution_count": 62,
      "outputs": [
        {
          "output_type": "stream",
          "name": "stdout",
          "text": [
            "Olicia Longline Jacket | $119.99 | $65.99\n",
            "Sofi Bandage Dress | $89.99 | $53.99\n",
            "Ojai Wool-Blend Cardigan | $69.99 | $41.99\n",
            "Elsie Embossed Logo Flap Crossbody | $74.99 | $52.49\n",
            "Dore Faux-Leather Longline Jacket | $139.99 | $83.99\n",
            "Maxela Faux-Leather Dress | $79.99 | $47.99\n",
            "Eco Abiel Windbreaker | $69.99 | $41.99\n",
            "Brooker Crossbody | $69.99 | $48.99\n",
            "Jenn Sports Bra | $39.99 | $23.99\n",
            "Jenn Active Top | $44.99 | $26.99\n",
            "Luella Logo Backpack | $79.99 | $55.99\n",
            "Galina Logo Satin Shirt | $59.99 | $35.99\n",
            "Thea Logo Satchel | $79.99 | $55.99\n",
            "Eco Barwin Knit Dress | $54.99 | $32.99\n",
            "Aubriella Fanny Pack | $59.99 | $47.99\n",
            "Esther Faux-Leather Hooded Jacket | $89.99 | $62.99\n",
            "Jolene Ultra High-Rise Straight Jeans | $79.99 | $47.99\n",
            "Cate Logo Sweater | $59.99 | $47.99\n",
            "Andrea Gingham Mini Crossbody | $39.99 | $27.99\n",
            "Maidan Cardigan | $69.99 | $55.99\n",
            "Jaden Sculpt Mid-Rise Skinny Jeans | $79.99 | $63.99\n",
            "Pamila Flight Jacket | $89.99 | $53.99\n",
            "Aubriella Satchel | $79.99 | $63.99\n",
            "Rachelle Padded Jacket | $79.99 | $63.99\n",
            "Emmalee Combat Booties | $79.99 | $63.99\n",
            "Elsie Quilted Flap Crossbody | $74.99 | $52.49\n",
            "Esme Carryall | $89.99 | $62.99\n",
            "Zayla Braided Turtleneck Sweater | $54.99 | $43.99\n",
            "Jaden Body Sculpt Skinny Jeans | $79.99 | $47.99\n",
            "Esme Carryall | $89.99 | $62.99\n",
            "Esme Small Satchel | $69.99 | $48.99\n",
            "Eco Toy Puffer Jacket | $109.99 | $87.99\n",
            "Saget Logo Sweater | $54.99 | $43.99\n",
            "Calah Faux-Leather Puffer Vest | $79.99 | $63.99\n",
            "Sendy Lurex Sweater | $54.99 | $43.99\n",
            "Maris Varsity Jacket | $99.99 | $59.99\n"
          ]
        }
      ]
    },
    {
      "cell_type": "code",
      "source": [
        "data.to_excel('guess factory.xlsx')"
      ],
      "metadata": {
        "id": "CfXEBllgv9WX"
      },
      "execution_count": 63,
      "outputs": []
    }
  ]
}